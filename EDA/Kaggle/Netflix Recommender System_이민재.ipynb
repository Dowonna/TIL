{
 "cells": [
  {
   "cell_type": "markdown",
   "metadata": {
    "id": "GlCUfxDdVjpl"
   },
   "source": [
    "# 📽넷플릭스 대한민국 분석과 시각화 그리고 추천 시스템 구상"
   ]
  },
  {
   "cell_type": "markdown",
   "metadata": {
    "id": "AHk_PJqBVjpq"
   },
   "source": [
    "# 1_목표\n",
    "\n",
    "\n",
    "이 데이터셋은 전세계의 데이터가 포함된 데이터셋인데, 국가를 대한민국으로 한정지은 다음...\n",
    "```\n",
    "1. 데이터 분석(EDA)\n",
    "2. 시각화\n",
    "3. Baseline 모델 생성 후 추천 알고리즘 구현\n",
    "```\n",
    "과 같은 순서로 진행할 것이다."
   ]
  },
  {
   "cell_type": "markdown",
   "metadata": {
    "id": "vWdIyGzlVjpr"
   },
   "source": [
    "## 1_1_데이터 분석(EDA)"
   ]
  },
  {
   "cell_type": "code",
   "execution_count": null,
   "metadata": {
    "executionInfo": {
     "elapsed": 2399,
     "status": "ok",
     "timestamp": 1617603391728,
     "user": {
      "displayName": "Kamil Lee",
      "photoUrl": "https://lh3.googleusercontent.com/a-/AOh14GhtVq0rjLCBgtoAYi4HWKjjXq8fzIB4XpPNu6NQbw=s64",
      "userId": "14237530861062268164"
     },
     "user_tz": -540
    },
    "id": "GyGJQWtiVjpr"
   },
   "outputs": [],
   "source": [
    "import pandas as pd\n",
    "import numpy as np\n",
    "\n",
    "import datetime \n",
    "import time\n",
    "\n",
    "import matplotlib.pyplot as plt\n",
    "%matplotlib inline\n",
    "\n",
    "import seaborn as sns"
   ]
  },
  {
   "cell_type": "code",
   "execution_count": null,
   "metadata": {
    "colab": {
     "base_uri": "https://localhost:8080/"
    },
    "executionInfo": {
     "elapsed": 1174,
     "status": "ok",
     "timestamp": 1617602873785,
     "user": {
      "displayName": "Kamil Lee",
      "photoUrl": "https://lh3.googleusercontent.com/a-/AOh14GhtVq0rjLCBgtoAYi4HWKjjXq8fzIB4XpPNu6NQbw=s64",
      "userId": "14237530861062268164"
     },
     "user_tz": -540
    },
    "id": "BXC_7x6qVjps",
    "outputId": "7a7ff18c-7c9e-4e42-dd38-5591ea178b2c"
   },
   "outputs": [],
   "source": [
    "netflix_df = pd.read_csv('dataset/netflix_titles.csv',\n",
    "                         encoding='utf-8', engine='python')\n",
    "\n",
    "print(netflix_df.shape)"
   ]
  },
  {
   "cell_type": "code",
   "execution_count": null,
   "metadata": {
    "colab": {
     "base_uri": "https://localhost:8080/",
     "height": 634
    },
    "executionInfo": {
     "elapsed": 909,
     "status": "ok",
     "timestamp": 1617602873786,
     "user": {
      "displayName": "Kamil Lee",
      "photoUrl": "https://lh3.googleusercontent.com/a-/AOh14GhtVq0rjLCBgtoAYi4HWKjjXq8fzIB4XpPNu6NQbw=s64",
      "userId": "14237530861062268164"
     },
     "user_tz": -540
    },
    "id": "ABoZ1NmgVjpt",
    "outputId": "785ae855-d4e2-4db9-ba90-35774c97e8c4"
   },
   "outputs": [],
   "source": [
    "netflix_df.head()"
   ]
  },
  {
   "cell_type": "code",
   "execution_count": null,
   "metadata": {
    "colab": {
     "base_uri": "https://localhost:8080/"
    },
    "executionInfo": {
     "elapsed": 1321,
     "status": "ok",
     "timestamp": 1617602874377,
     "user": {
      "displayName": "Kamil Lee",
      "photoUrl": "https://lh3.googleusercontent.com/a-/AOh14GhtVq0rjLCBgtoAYi4HWKjjXq8fzIB4XpPNu6NQbw=s64",
      "userId": "14237530861062268164"
     },
     "user_tz": -540
    },
    "id": "o9JUdUHdVjpt",
    "outputId": "81613e6d-8cef-407e-cdfd-db8cc9e95801"
   },
   "outputs": [],
   "source": [
    "for col in netflix_df.columns:\n",
    "    print(\"{}\\n\".format(netflix_df[col].head()))"
   ]
  },
  {
   "cell_type": "markdown",
   "metadata": {
    "id": "5X_PPtE5Vjpu"
   },
   "source": [
    "주목해야할 점은 'country' 컬럼이다. 이 데이터셋은 전세계의 모든 데이터가 포함되어 있고, 우리가 봐야할 것은 국가를 한정시키고 분석하는 것이 이번 목표이기 때문에 `netflix_rok_df`라는 이름으로 새롭게 생성하도록 한다."
   ]
  },
  {
   "cell_type": "code",
   "execution_count": null,
   "metadata": {
    "colab": {
     "base_uri": "https://localhost:8080/"
    },
    "executionInfo": {
     "elapsed": 1255,
     "status": "ok",
     "timestamp": 1617602875499,
     "user": {
      "displayName": "Kamil Lee",
      "photoUrl": "https://lh3.googleusercontent.com/a-/AOh14GhtVq0rjLCBgtoAYi4HWKjjXq8fzIB4XpPNu6NQbw=s64",
      "userId": "14237530861062268164"
     },
     "user_tz": -540
    },
    "id": "vZCWW8PpVjpu",
    "outputId": "112308e5-236b-4e8b-a1cb-22cdbe628595"
   },
   "outputs": [],
   "source": [
    "netflix_rok_df = netflix_df[netflix_df['country'] == 'South Korea']\n",
    "\n",
    "print(netflix_rok_df.shape)"
   ]
  },
  {
   "cell_type": "markdown",
   "metadata": {
    "id": "iigxk8RDVjpu"
   },
   "source": [
    "데이터 수가 적은 것 같아서 걱정되지만, 차후에 크롤링을 통해 데이터를 추가하는 작업도 고민해 볼 필요가 있을 것 같다.\n",
    "\n",
    "일단은 계속 진행해 보겠다."
   ]
  },
  {
   "cell_type": "code",
   "execution_count": null,
   "metadata": {
    "colab": {
     "base_uri": "https://localhost:8080/"
    },
    "executionInfo": {
     "elapsed": 1551,
     "status": "ok",
     "timestamp": 1617602876309,
     "user": {
      "displayName": "Kamil Lee",
      "photoUrl": "https://lh3.googleusercontent.com/a-/AOh14GhtVq0rjLCBgtoAYi4HWKjjXq8fzIB4XpPNu6NQbw=s64",
      "userId": "14237530861062268164"
     },
     "user_tz": -540
    },
    "id": "oW7RKJdWVjpv",
    "outputId": "c503dfea-19a0-4bff-a01d-1a3cd52944a6"
   },
   "outputs": [],
   "source": [
    "netflix_rok_df.count()"
   ]
  },
  {
   "cell_type": "code",
   "execution_count": null,
   "metadata": {
    "colab": {
     "base_uri": "https://localhost:8080/"
    },
    "executionInfo": {
     "elapsed": 1345,
     "status": "ok",
     "timestamp": 1617602876310,
     "user": {
      "displayName": "Kamil Lee",
      "photoUrl": "https://lh3.googleusercontent.com/a-/AOh14GhtVq0rjLCBgtoAYi4HWKjjXq8fzIB4XpPNu6NQbw=s64",
      "userId": "14237530861062268164"
     },
     "user_tz": -540
    },
    "id": "UxFaHDNxVjpv",
    "outputId": "92066531-07e7-446b-96dc-82b8d49fecfa"
   },
   "outputs": [],
   "source": [
    "netflix_rok_df.info()"
   ]
  },
  {
   "cell_type": "code",
   "execution_count": null,
   "metadata": {
    "colab": {
     "base_uri": "https://localhost:8080/"
    },
    "executionInfo": {
     "elapsed": 1149,
     "status": "ok",
     "timestamp": 1617602876310,
     "user": {
      "displayName": "Kamil Lee",
      "photoUrl": "https://lh3.googleusercontent.com/a-/AOh14GhtVq0rjLCBgtoAYi4HWKjjXq8fzIB4XpPNu6NQbw=s64",
      "userId": "14237530861062268164"
     },
     "user_tz": -540
    },
    "id": "8Om7eGZoVjpv",
    "outputId": "68c816eb-14c9-4173-9654-adf9690fd5f8"
   },
   "outputs": [],
   "source": [
    "netflix_rok_df.isnull().sum()"
   ]
  },
  {
   "cell_type": "markdown",
   "metadata": {
    "id": "Mz3RA0t5Vjpw"
   },
   "source": [
    "### 수치형 / 범주형 변수"
   ]
  },
  {
   "cell_type": "code",
   "execution_count": null,
   "metadata": {
    "colab": {
     "base_uri": "https://localhost:8080/",
     "height": 287
    },
    "executionInfo": {
     "elapsed": 1187,
     "status": "ok",
     "timestamp": 1617602876730,
     "user": {
      "displayName": "Kamil Lee",
      "photoUrl": "https://lh3.googleusercontent.com/a-/AOh14GhtVq0rjLCBgtoAYi4HWKjjXq8fzIB4XpPNu6NQbw=s64",
      "userId": "14237530861062268164"
     },
     "user_tz": -540
    },
    "id": "YW8f2Om1Vjpw",
    "outputId": "b0c2ad5c-15e4-4586-bbab-bd2f96557f49"
   },
   "outputs": [],
   "source": [
    "num_cols = [col for col in netflix_rok_df.columns if netflix_rok_df[col].dtype in [\"int64\", \"float64\"]]\n",
    "netflix_rok_df[num_cols].describe()"
   ]
  },
  {
   "cell_type": "code",
   "execution_count": null,
   "metadata": {
    "colab": {
     "base_uri": "https://localhost:8080/",
     "height": 321
    },
    "executionInfo": {
     "elapsed": 1044,
     "status": "ok",
     "timestamp": 1617602876731,
     "user": {
      "displayName": "Kamil Lee",
      "photoUrl": "https://lh3.googleusercontent.com/a-/AOh14GhtVq0rjLCBgtoAYi4HWKjjXq8fzIB4XpPNu6NQbw=s64",
      "userId": "14237530861062268164"
     },
     "user_tz": -540
    },
    "id": "8qcra-_PVjpw",
    "outputId": "5c99e091-ab7e-4e02-ff27-569150d1c4e2"
   },
   "outputs": [],
   "source": [
    "cat_cols = [col for col in netflix_rok_df.columns if netflix_rok_df[col].dtype in ['O']]\n",
    "netflix_rok_df[cat_cols].describe()"
   ]
  },
  {
   "cell_type": "code",
   "execution_count": null,
   "metadata": {
    "colab": {
     "base_uri": "https://localhost:8080/"
    },
    "executionInfo": {
     "elapsed": 1473,
     "status": "ok",
     "timestamp": 1617602877292,
     "user": {
      "displayName": "Kamil Lee",
      "photoUrl": "https://lh3.googleusercontent.com/a-/AOh14GhtVq0rjLCBgtoAYi4HWKjjXq8fzIB4XpPNu6NQbw=s64",
      "userId": "14237530861062268164"
     },
     "user_tz": -540
    },
    "id": "trv9FGxWVjpx",
    "outputId": "490f750e-e383-4322-b439-a39f795e82c7"
   },
   "outputs": [],
   "source": [
    "for col in cat_cols:\n",
    "    uniq = np.unique(netflix_rok_df[col].astype(str))\n",
    "    print('# 컬럼명: {}, 고유값의 개수: {}, 고유값 목록: {}'.format(col, len(uniq), uniq))"
   ]
  },
  {
   "cell_type": "markdown",
   "metadata": {
    "id": "bi1pjuGsVjpx"
   },
   "source": [
    "`netflix_rok_df`의 'type' 컬럼이 속한 고유값을 `.unique()` 함수로 확인해본다."
   ]
  },
  {
   "cell_type": "code",
   "execution_count": null,
   "metadata": {
    "colab": {
     "base_uri": "https://localhost:8080/"
    },
    "executionInfo": {
     "elapsed": 805,
     "status": "ok",
     "timestamp": 1617602878447,
     "user": {
      "displayName": "Kamil Lee",
      "photoUrl": "https://lh3.googleusercontent.com/a-/AOh14GhtVq0rjLCBgtoAYi4HWKjjXq8fzIB4XpPNu6NQbw=s64",
      "userId": "14237530861062268164"
     },
     "user_tz": -540
    },
    "id": "QrADcAaEVjpx",
    "outputId": "bd280634-3fbb-4450-b7e2-84232ffcb714"
   },
   "outputs": [],
   "source": [
    "netflix_rok_df['type'].unique()"
   ]
  },
  {
   "cell_type": "code",
   "execution_count": null,
   "metadata": {},
   "outputs": [],
   "source": [
    "netflix_rok_df.dtypes"
   ]
  },
  {
   "cell_type": "markdown",
   "metadata": {
    "id": "loNZG5eNVjpx"
   },
   "source": [
    "`netflix_rok_df`의 'type' 컬럼 중 'TV Show' 값을 `netflix_rok_shows`라는 이름으로 추출한다."
   ]
  },
  {
   "cell_type": "code",
   "execution_count": null,
   "metadata": {
    "colab": {
     "base_uri": "https://localhost:8080/",
     "height": 634
    },
    "executionInfo": {
     "elapsed": 983,
     "status": "ok",
     "timestamp": 1617602879589,
     "user": {
      "displayName": "Kamil Lee",
      "photoUrl": "https://lh3.googleusercontent.com/a-/AOh14GhtVq0rjLCBgtoAYi4HWKjjXq8fzIB4XpPNu6NQbw=s64",
      "userId": "14237530861062268164"
     },
     "user_tz": -540
    },
    "id": "xhpdWzrqVjpy",
    "outputId": "dce6637e-8706-4c58-9e65-825a7e83ccbf"
   },
   "outputs": [],
   "source": [
    "netflix_rok_shows = netflix_rok_df[netflix_rok_df['type'] == 'TV Show']\n",
    "netflix_rok_shows.head()"
   ]
  },
  {
   "cell_type": "code",
   "execution_count": null,
   "metadata": {},
   "outputs": [],
   "source": [
    "netflix_rok_shows.dtypes"
   ]
  },
  {
   "cell_type": "markdown",
   "metadata": {
    "id": "77MfqWIvVjpy"
   },
   "source": [
    "`netflix_rok_df`의 'type' 컬럼 중 'Movie' 데이터를 `netflix_rok_movies`라는 이름으로 추출한다."
   ]
  },
  {
   "cell_type": "code",
   "execution_count": null,
   "metadata": {
    "colab": {
     "base_uri": "https://localhost:8080/",
     "height": 701
    },
    "executionInfo": {
     "elapsed": 960,
     "status": "ok",
     "timestamp": 1617602880146,
     "user": {
      "displayName": "Kamil Lee",
      "photoUrl": "https://lh3.googleusercontent.com/a-/AOh14GhtVq0rjLCBgtoAYi4HWKjjXq8fzIB4XpPNu6NQbw=s64",
      "userId": "14237530861062268164"
     },
     "user_tz": -540
    },
    "id": "2DcUP6KhVjpy",
    "outputId": "ad1f10a1-20a1-427c-e96c-e36117e0a2d9"
   },
   "outputs": [],
   "source": [
    "netflix_rok_movies = netflix_rok_df[netflix_rok_df['type'] == 'Movie']\n",
    "netflix_rok_movies.head()"
   ]
  },
  {
   "cell_type": "markdown",
   "metadata": {
    "id": "7xsjO5ayVjpy"
   },
   "source": [
    "# 2_시각화\n",
    "\n",
    "시각화 작업에 앞서, 기존의 \"matplotlib\", \"seaborn\"과 같은 시각화 도구 외에도 \"Plotly express\"라는 시각화 도구가 존재한다.\n",
    "\n",
    "사용법은 seaborn과 크게 다르지 않기 때문에 개인적으로 이쪽을 권장하고 싶다.\n",
    "\n",
    "설치 방법은 'Anaconda Prompt' 창에서 `conda install` ? `pip install` ? 명령어를 통해서 \"plotly\" & \"plotly Express\" 를 설치를 진행하면 된다."
   ]
  },
  {
   "cell_type": "code",
   "execution_count": null,
   "metadata": {
    "colab": {
     "base_uri": "https://localhost:8080/",
     "height": 16
    },
    "executionInfo": {
     "elapsed": 1516,
     "status": "ok",
     "timestamp": 1617602884004,
     "user": {
      "displayName": "Kamil Lee",
      "photoUrl": "https://lh3.googleusercontent.com/a-/AOh14GhtVq0rjLCBgtoAYi4HWKjjXq8fzIB4XpPNu6NQbw=s64",
      "userId": "14237530861062268164"
     },
     "user_tz": -540
    },
    "id": "QOzfWQNfVjpz",
    "outputId": "b4fbd060-5766-4554-aae3-1ad97387cae9"
   },
   "outputs": [],
   "source": [
    "import plotly.express as px\n",
    "import plotly.graph_objects as go\n",
    "import cufflinks as cf\n",
    "\n",
    "cf.go_offline()"
   ]
  },
  {
   "cell_type": "markdown",
   "metadata": {
    "id": "ZvLqntTfVjpz"
   },
   "source": [
    "## 2_1_넷플릭스 대한민국 컨텐츠 중 한국 영화와 TV 프로그램이 차지하는 비중\n",
    "\n",
    "먼저 'type' 컬럼의 'Movie' 데이터와 'TV Show' 데이터가 차지하는 비중을 간단하게 시각화해보겠다."
   ]
  },
  {
   "cell_type": "code",
   "execution_count": null,
   "metadata": {
    "colab": {
     "base_uri": "https://localhost:8080/",
     "height": 427
    },
    "executionInfo": {
     "elapsed": 1187,
     "status": "ok",
     "timestamp": 1617602886088,
     "user": {
      "displayName": "Kamil Lee",
      "photoUrl": "https://lh3.googleusercontent.com/a-/AOh14GhtVq0rjLCBgtoAYi4HWKjjXq8fzIB4XpPNu6NQbw=s64",
      "userId": "14237530861062268164"
     },
     "user_tz": -540
    },
    "id": "qspWM1llVjp0",
    "outputId": "7a420acf-b378-40fa-88a9-39beef5ec112"
   },
   "outputs": [],
   "source": [
    "f, ax = plt.subplots(figsize=(10, 6))\n",
    "ax.set_title('넷플릭스 대한민국 한국 영화 Vs. TV 프로그램', family='D2Coding', size=20)\n",
    "\n",
    "plt.xkcd()\n",
    "    \n",
    "sns.set(style='whitegrid')\n",
    "sns.countplot(data=netflix_rok_df, x='type', palette='pastel')"
   ]
  },
  {
   "cell_type": "markdown",
   "metadata": {
    "id": "OQuZSAZ3Vjp0"
   },
   "source": [
    "이 데이터셋에는 한국 영화보다는 한국 TV 프로그램의 비중이 더 많은 것으로 확인되었다."
   ]
  },
  {
   "cell_type": "markdown",
   "metadata": {
    "id": "yBrj5EbHKvCj"
   },
   "source": [
    "## 2_2_넷플릭스 대한민국 컨텐츠 추가 시기 확인"
   ]
  },
  {
   "cell_type": "markdown",
   "metadata": {
    "id": "dqbPmJmVVjp0"
   },
   "source": [
    "### 2_2_1_TV 프로그램이 추가된 시기 확인\n",
    "\n",
    "다음으로 TV 프로그램이 어느 연도에 그리고 어느 월에 많이 추가되었는지를 plotly의 Heatmap을 통해 시각화해본다."
   ]
  },
  {
   "cell_type": "code",
   "execution_count": null,
   "metadata": {
    "colab": {
     "base_uri": "https://localhost:8080/",
     "height": 276
    },
    "executionInfo": {
     "elapsed": 1214,
     "status": "error",
     "timestamp": 1617602887230,
     "user": {
      "displayName": "Kamil Lee",
      "photoUrl": "https://lh3.googleusercontent.com/a-/AOh14GhtVq0rjLCBgtoAYi4HWKjjXq8fzIB4XpPNu6NQbw=s64",
      "userId": "14237530861062268164"
     },
     "user_tz": -540
    },
    "id": "B5tzOQpWVjp1",
    "outputId": "bbcf3e83-49e9-4a56-c948-03d45b73c4d7"
   },
   "outputs": [],
   "source": [
    "netflix_shows_date = netflix_rok_shows[['date_added']].dropna()\n",
    "netflix_shows_date['year'] = netflix_shows_date['date_added'].apply(lambda x : x.split(', ')[-1])\n",
    "netflix_shows_date['month'] = netflix_shows_date['date_added'].apply(lambda x : x.lstrip().split(' ')[0])\n",
    "\n",
    "month_order = ['January', 'February', 'March', 'April', 'May', 'June', 'July', 'August', 'September', 'October', 'November', 'December'][::-1]\n",
    "df = netflix_shows_date.groupby('year')['month'].value_counts().unstack().fillna(0)[month_order]\n",
    "\n",
    "fig = px.imshow(df, labels=dict(color='Count'), x=df.columns, y=df.index)\n",
    "fig.update_layout(title='넷플릭스 대한민국 TV 프로그램 업데이트 연도별 월간 추가 추세')\n",
    "\n",
    "fig.show()"
   ]
  },
  {
   "cell_type": "code",
   "execution_count": null,
   "metadata": {
    "colab": {
     "base_uri": "https://localhost:8080/",
     "height": 433
    },
    "executionInfo": {
     "elapsed": 1964,
     "status": "ok",
     "timestamp": 1617602888143,
     "user": {
      "displayName": "Kamil Lee",
      "photoUrl": "https://lh3.googleusercontent.com/a-/AOh14GhtVq0rjLCBgtoAYi4HWKjjXq8fzIB4XpPNu6NQbw=s64",
      "userId": "14237530861062268164"
     },
     "user_tz": -540
    },
    "id": "svBoX5CzVjp1",
    "outputId": "28ee01b2-e838-4556-8e6c-550eae4596fc"
   },
   "outputs": [],
   "source": [
    "f, ax = plt.subplots(figsize=(10, 6))\n",
    "ax.set_title('넷플릭스 대한민국 TV 프로그램 연간 추가 추세', family='D2Coding', size=20)\n",
    "    \n",
    "plt.xkcd()\n",
    "\n",
    "sns.set(style='whitegrid')\n",
    "sns.countplot(data=netflix_rok_shows, y='release_year',\n",
    "              palette='pastel', order=netflix_rok_shows['release_year']\n",
    "              .value_counts().index[0:])"
   ]
  },
  {
   "cell_type": "markdown",
   "metadata": {
    "id": "tSkzd5w8Vjp2"
   },
   "source": [
    "2019년 10월의 색깔이 가장 진한 것으로 보아 많은 양의 TV 프로그램이 추가가 된 것을 알 수 있다. 그리고 2020년도에 가장 많이 추가가 되었다는 것도 확인할 수 있다."
   ]
  },
  {
   "cell_type": "markdown",
   "metadata": {
    "id": "QDXmnzOFVjp2"
   },
   "source": [
    "### 2_2_2__한국 영화가 추가된 시기 확인\n",
    "\n",
    "한국 영화도 빼먹을 수 없다. 한국 영화도 위와 동일한 방법으로 시각화해 본다."
   ]
  },
  {
   "cell_type": "code",
   "execution_count": null,
   "metadata": {
    "colab": {
     "base_uri": "https://localhost:8080/",
     "height": 461
    },
    "executionInfo": {
     "elapsed": 1440,
     "status": "error",
     "timestamp": 1617602888145,
     "user": {
      "displayName": "Kamil Lee",
      "photoUrl": "https://lh3.googleusercontent.com/a-/AOh14GhtVq0rjLCBgtoAYi4HWKjjXq8fzIB4XpPNu6NQbw=s64",
      "userId": "14237530861062268164"
     },
     "user_tz": -540
    },
    "id": "HODBsCxGVjp2",
    "outputId": "4bce9d1b-bb44-4327-b13d-51c0f68a6027"
   },
   "outputs": [],
   "source": [
    "netflix_movies_date = netflix_rok_movies[['date_added']].dropna()\n",
    "netflix_movies_date['year'] = netflix_movies_date['date_added'].apply(lambda x : x.split(', ')[-1])\n",
    "netflix_movies_date['month'] = netflix_movies_date['date_added'].apply(lambda x : x.lstrip().split(' ')[0])\n",
    "\n",
    "month_order = ['January', 'February', 'March', 'April', 'May', 'June', 'July', 'August', 'September', 'October', 'November', 'December'][::-1]\n",
    "df = netflix_movies_date.groupby('year')['month'].value_counts().unstack().fillna(0)[month_order]\n",
    "\n",
    "fig = px.imshow(df, labels=dict(x='', y='', color='Count'), x=df.columns, y=df.index)\n",
    "fig.update_layout(title='넷플릭스 대한민국 한국 영화 업데이트 연도별 월간 추가 추세')\n",
    "\n",
    "fig.show()"
   ]
  },
  {
   "cell_type": "markdown",
   "metadata": {
    "id": "vA4O3kDlVjp2"
   },
   "source": [
    "신기한 점이 있는데, 한국 영화의 경우 12월에는 추가되지 않은 듯 하다.\n",
    "\n",
    "정말로 없는 것일까? 직접 확인해보도록 하자."
   ]
  },
  {
   "cell_type": "code",
   "execution_count": null,
   "metadata": {
    "executionInfo": {
     "elapsed": 1122,
     "status": "aborted",
     "timestamp": 1617602888144,
     "user": {
      "displayName": "Kamil Lee",
      "photoUrl": "https://lh3.googleusercontent.com/a-/AOh14GhtVq0rjLCBgtoAYi4HWKjjXq8fzIB4XpPNu6NQbw=s64",
      "userId": "14237530861062268164"
     },
     "user_tz": -540
    },
    "id": "mGyvfJL0Vjp3"
   },
   "outputs": [],
   "source": [
    "netflix_movies_date['month'].unique()"
   ]
  },
  {
   "cell_type": "markdown",
   "metadata": {
    "id": "YZ4cQ2R7Vjp3"
   },
   "source": [
    "정말로 없었다(<u>넷플릭스 대한민국 열일하자...</u>).\n",
    "\n",
    "그렇다면 12월(December) 컬럼을 제외시키고 다시 돌려보도록 하자."
   ]
  },
  {
   "cell_type": "code",
   "execution_count": null,
   "metadata": {
    "colab": {
     "base_uri": "https://localhost:8080/",
     "height": 276
    },
    "executionInfo": {
     "elapsed": 1185,
     "status": "error",
     "timestamp": 1617602888529,
     "user": {
      "displayName": "Kamil Lee",
      "photoUrl": "https://lh3.googleusercontent.com/a-/AOh14GhtVq0rjLCBgtoAYi4HWKjjXq8fzIB4XpPNu6NQbw=s64",
      "userId": "14237530861062268164"
     },
     "user_tz": -540
    },
    "id": "d_voPLDpVjp3",
    "outputId": "31ee1b2b-bfb8-4ec8-c01d-62c622352342"
   },
   "outputs": [],
   "source": [
    "netflix_movies_date = netflix_rok_movies[['date_added']].dropna()\n",
    "netflix_movies_date['year'] = netflix_movies_date['date_added'].apply(lambda x : x.split(', ')[-1])\n",
    "netflix_movies_date['month'] = netflix_movies_date['date_added'].apply(lambda x : x.lstrip().split(' ')[0])\n",
    "\n",
    "month_order = ['January', 'February', 'March', 'April', 'May', 'June', 'July', 'August', 'September', 'October', 'November'][::-1]\n",
    "df = netflix_movies_date.groupby('year')['month'].value_counts().unstack().fillna(0)[month_order]\n",
    "\n",
    "fig = px.imshow(df, labels=dict(color='Count'), x=df.columns, y=df.index)\n",
    "fig.update_layout(title='넷플릭스 대한민국 한국 영화 업데이트 연도별 월간 추가 추세')\n",
    "\n",
    "fig.show()"
   ]
  },
  {
   "cell_type": "code",
   "execution_count": null,
   "metadata": {
    "colab": {
     "base_uri": "https://localhost:8080/",
     "height": 433
    },
    "executionInfo": {
     "elapsed": 1753,
     "status": "ok",
     "timestamp": 1617602897875,
     "user": {
      "displayName": "Kamil Lee",
      "photoUrl": "https://lh3.googleusercontent.com/a-/AOh14GhtVq0rjLCBgtoAYi4HWKjjXq8fzIB4XpPNu6NQbw=s64",
      "userId": "14237530861062268164"
     },
     "user_tz": -540
    },
    "id": "8Xm9O0LGVjp4",
    "outputId": "a0a55c55-b53d-41ba-850d-8bcc56079252"
   },
   "outputs": [],
   "source": [
    "f, ax = plt.subplots(figsize=(10, 6))\n",
    "ax.set_title('넷플릭스 대한민국 한국 영화 연간 추가 추세', family='D2Coding', size=20)\n",
    "\n",
    "plt.xkcd()    \n",
    "\n",
    "sns.set(style='whitegrid')\n",
    "sns.countplot(data=netflix_rok_movies, y='release_year',\n",
    "                   palette='husl', order=netflix_rok_movies['release_year']\n",
    "                   .value_counts().index[0:])"
   ]
  },
  {
   "cell_type": "markdown",
   "metadata": {
    "id": "KsY-iBFbVjp4"
   },
   "source": [
    "전반적으로 2018년도에 가장 많이 추가되었으며 그 중에서 2018년 2월이 한국 영화가 많이 등록된 것을 확인할 수 있다."
   ]
  },
  {
   "cell_type": "markdown",
   "metadata": {
    "id": "Pdv_MLdUVjp4"
   },
   "source": [
    "## 2_3_넷플릭스 대한민국 영상물(컨텐츠) 등급 확인"
   ]
  },
  {
   "cell_type": "markdown",
   "metadata": {
    "id": "InT5ptZ6KYtC"
   },
   "source": [
    "### 2_3_1_한국 영화 영상물 등급 확인\n",
    "\n",
    "먼저, 모든 한국 영화의 등급을 시각화해본다."
   ]
  },
  {
   "cell_type": "code",
   "execution_count": null,
   "metadata": {
    "colab": {
     "base_uri": "https://localhost:8080/"
    },
    "executionInfo": {
     "elapsed": 880,
     "status": "ok",
     "timestamp": 1617602901133,
     "user": {
      "displayName": "Kamil Lee",
      "photoUrl": "https://lh3.googleusercontent.com/a-/AOh14GhtVq0rjLCBgtoAYi4HWKjjXq8fzIB4XpPNu6NQbw=s64",
      "userId": "14237530861062268164"
     },
     "user_tz": -540
    },
    "id": "wlJWEdvJVjp4",
    "outputId": "ead15391-c060-4a13-feb7-307e10145134"
   },
   "outputs": [],
   "source": [
    "netflix_rok_movies['rating'].unique()"
   ]
  },
  {
   "cell_type": "code",
   "execution_count": null,
   "metadata": {
    "colab": {
     "base_uri": "https://localhost:8080/",
     "height": 433
    },
    "executionInfo": {
     "elapsed": 1675,
     "status": "ok",
     "timestamp": 1617602903202,
     "user": {
      "displayName": "Kamil Lee",
      "photoUrl": "https://lh3.googleusercontent.com/a-/AOh14GhtVq0rjLCBgtoAYi4HWKjjXq8fzIB4XpPNu6NQbw=s64",
      "userId": "14237530861062268164"
     },
     "user_tz": -540
    },
    "id": "jaWgk3IPVjp5",
    "outputId": "6a74bc85-786d-4c42-ec90-0753e535d557"
   },
   "outputs": [],
   "source": [
    "f, ax = plt.subplots(figsize=(10, 6))\n",
    "ax.set_title('넷플릭스 대한민국 한국 영화 영상물 등급', family='D2Coding', size=20)\n",
    "\n",
    "plt.xkcd()\n",
    "    \n",
    "sns.set(style = \"whitegrid\")\n",
    "sns.countplot(data=netflix_rok_movies, x='rating', palette='husl',\n",
    "             order=netflix_rok_movies['rating'].value_counts().index[0:])"
   ]
  },
  {
   "cell_type": "markdown",
   "metadata": {
    "id": "fLu6KlgHVjp5"
   },
   "source": [
    "위의 등급은 **[영상물 등급 제도/미국](https://namu.wiki/w/%EC%98%81%EC%83%81%EB%AC%BC%20%EB%93%B1%EA%B8%89%20%EC%A0%9C%EB%8F%84/%EB%AF%B8%EA%B5%AD)**을 기준으로 구분된 것이다.\n",
    "\n",
    "전체적으로 넷플릭스 대한민국이 수입해 오는 한국 영화들이 <u>대부분 자극적인(TV-MA: 17세 미만의 어린이 혹은 청소년한테 부적절한 프로그램)</u> 것을 확인할 수 있다.\n",
    "\n",
    "다음으로 많은 \"NR\" 등급의 경우 등급 보류를 뜻하며, TV-14, TV-Y7, TV-PG의 경우 같은 결과를 보여주고 있다."
   ]
  },
  {
   "cell_type": "markdown",
   "metadata": {
    "id": "1p4uvJXPVjp5"
   },
   "source": [
    "### 2_3_2_한국 TV 프로그램 영상물 등급 확인\n",
    "\n",
    "다음으로, TV 프로그램도 위와 동일한 방법으로 시각화해 보자."
   ]
  },
  {
   "cell_type": "code",
   "execution_count": null,
   "metadata": {
    "colab": {
     "base_uri": "https://localhost:8080/"
    },
    "executionInfo": {
     "elapsed": 859,
     "status": "ok",
     "timestamp": 1617602905157,
     "user": {
      "displayName": "Kamil Lee",
      "photoUrl": "https://lh3.googleusercontent.com/a-/AOh14GhtVq0rjLCBgtoAYi4HWKjjXq8fzIB4XpPNu6NQbw=s64",
      "userId": "14237530861062268164"
     },
     "user_tz": -540
    },
    "id": "NtDod3ZuVjp6",
    "outputId": "926904d0-ce66-45ed-dacc-0e178094c358"
   },
   "outputs": [],
   "source": [
    "netflix_rok_shows['rating'].unique()"
   ]
  },
  {
   "cell_type": "code",
   "execution_count": null,
   "metadata": {
    "colab": {
     "base_uri": "https://localhost:8080/",
     "height": 433
    },
    "executionInfo": {
     "elapsed": 1466,
     "status": "ok",
     "timestamp": 1617602905944,
     "user": {
      "displayName": "Kamil Lee",
      "photoUrl": "https://lh3.googleusercontent.com/a-/AOh14GhtVq0rjLCBgtoAYi4HWKjjXq8fzIB4XpPNu6NQbw=s64",
      "userId": "14237530861062268164"
     },
     "user_tz": -540
    },
    "id": "PFRt-hR6Vjp6",
    "outputId": "9d3277f4-7657-4e75-d143-5328babc374c"
   },
   "outputs": [],
   "source": [
    "f, ax = plt.subplots(figsize=(10, 6))\n",
    "ax.set_title('넷플릭스 대한민국 한국 TV 프로그램 영상물 등급', family='D2Coding', size=20)\n",
    "\n",
    "plt.xkcd()\n",
    "    \n",
    "sns.set(style = \"whitegrid\")\n",
    "sns.countplot(data=netflix_rok_shows, x='rating', palette='pastel',\n",
    "             order=netflix_rok_shows['rating'].value_counts().index[0:])"
   ]
  },
  {
   "cell_type": "markdown",
   "metadata": {
    "id": "jccXwAACVjp6"
   },
   "source": [
    "<u>한국 영화와는 다르게 \"TV-14(14세 미만의 어린이 혹은 청소년이 시청하려면 보호자 지도가 권장되는 프로그램)\" 등급 판정을 받은 TV 프로그램이 주를 이루고 있</u>으며, 다음으로 TV-MA, TV-PG 순으로 결과를 확인할 수 있다."
   ]
  },
  {
   "cell_type": "markdown",
   "metadata": {
    "id": "K4IClFz9LGxE"
   },
   "source": [
    "## 2_4_넷플릭스 대한민국 컨텐츠 상영시간(Duration) 확인"
   ]
  },
  {
   "cell_type": "markdown",
   "metadata": {
    "id": "zk96ri9YVjp7"
   },
   "source": [
    "### 2_4_1_한국 영화 상영시간 확인"
   ]
  },
  {
   "cell_type": "code",
   "execution_count": null,
   "metadata": {
    "colab": {
     "base_uri": "https://localhost:8080/"
    },
    "executionInfo": {
     "elapsed": 1200,
     "status": "ok",
     "timestamp": 1617602910056,
     "user": {
      "displayName": "Kamil Lee",
      "photoUrl": "https://lh3.googleusercontent.com/a-/AOh14GhtVq0rjLCBgtoAYi4HWKjjXq8fzIB4XpPNu6NQbw=s64",
      "userId": "14237530861062268164"
     },
     "user_tz": -540
    },
    "id": "ICGIg20xVjp7",
    "outputId": "4baa5b06-9c46-42d4-d355-ede5825ac42e"
   },
   "outputs": [],
   "source": [
    "netflix_rok_df['duration'].unique()"
   ]
  },
  {
   "cell_type": "code",
   "execution_count": null,
   "metadata": {
    "colab": {
     "base_uri": "https://localhost:8080/",
     "height": 542
    },
    "executionInfo": {
     "elapsed": 1394,
     "status": "ok",
     "timestamp": 1617602910593,
     "user": {
      "displayName": "Kamil Lee",
      "photoUrl": "https://lh3.googleusercontent.com/a-/AOh14GhtVq0rjLCBgtoAYi4HWKjjXq8fzIB4XpPNu6NQbw=s64",
      "userId": "14237530861062268164"
     },
     "user_tz": -540
    },
    "id": "oPIs5DnUVjp7",
    "outputId": "677956c9-6666-4f31-e452-dd8bc11d19ef"
   },
   "outputs": [],
   "source": [
    "colors = ['lightslategray']\n",
    "colors[0] = 'crimson'\n",
    "\n",
    "movie_dur = pd.value_counts(netflix_rok_movies['duration'])\n",
    "fig = go.Figure([go.Bar(x=movie_dur.index, y=movie_dur.values,\n",
    "                        text=movie_dur.values, marker_color=colors)])\n",
    "fig.update_traces(textposition='outside')\n",
    "fig.update_layout(title='한국 영화 상영시간 분포도', xaxis={'categoryorder':'total descending'})\n",
    "\n",
    "fig.show()"
   ]
  },
  {
   "cell_type": "markdown",
   "metadata": {
    "id": "Q0oScBmrVjp8"
   },
   "source": [
    "데이터가 적어서 속단하기 이르지만, 현재 넷플릭스 대한민국에 있는 한국 영화 대부분이 2시간(120분) 내외로 끝나는 것을 알 수 있었다."
   ]
  },
  {
   "cell_type": "markdown",
   "metadata": {
    "id": "67WapnI6Vjp8"
   },
   "source": [
    "### 2_4_2_한국 TV 프로그램 상영시간 확인\n",
    "\n",
    "위와 동일한 방법으로 시각화해 보자."
   ]
  },
  {
   "cell_type": "code",
   "execution_count": null,
   "metadata": {
    "colab": {
     "base_uri": "https://localhost:8080/"
    },
    "executionInfo": {
     "elapsed": 853,
     "status": "ok",
     "timestamp": 1617602914085,
     "user": {
      "displayName": "Kamil Lee",
      "photoUrl": "https://lh3.googleusercontent.com/a-/AOh14GhtVq0rjLCBgtoAYi4HWKjjXq8fzIB4XpPNu6NQbw=s64",
      "userId": "14237530861062268164"
     },
     "user_tz": -540
    },
    "id": "_7_T7Vj9Vjp9",
    "outputId": "a281cb83-cd6d-48ab-c9dd-d9b693640e10"
   },
   "outputs": [],
   "source": [
    "netflix_rok_shows['duration'].unique()"
   ]
  },
  {
   "cell_type": "code",
   "execution_count": null,
   "metadata": {
    "colab": {
     "base_uri": "https://localhost:8080/",
     "height": 542
    },
    "executionInfo": {
     "elapsed": 1454,
     "status": "ok",
     "timestamp": 1617602915785,
     "user": {
      "displayName": "Kamil Lee",
      "photoUrl": "https://lh3.googleusercontent.com/a-/AOh14GhtVq0rjLCBgtoAYi4HWKjjXq8fzIB4XpPNu6NQbw=s64",
      "userId": "14237530861062268164"
     },
     "user_tz": -540
    },
    "id": "1bTs_wmIVjp9",
    "outputId": "196381de-d240-4af4-f229-94f09d4c398a"
   },
   "outputs": [],
   "source": [
    "colors = ['lightslategray']\n",
    "colors[0] = 'crimson'\n",
    "\n",
    "show_dur = pd.value_counts(netflix_rok_shows['duration'])\n",
    "fig = go.Figure([go.Bar(x=show_dur.index, y=show_dur.values,\n",
    "                        text=show_dur.values, marker_color=colors)])\n",
    "fig.update_traces(textposition='outside')\n",
    "fig.update_layout(title='한국 TV 프로그램 상영시간 분포도', xaxis={'categoryorder':'total descending'})\n",
    "\n",
    "fig.show()"
   ]
  },
  {
   "cell_type": "markdown",
   "metadata": {
    "id": "HeOQap9BVjp9"
   },
   "source": [
    "## 2_5_IMDb 데이터셋 추가 후 평점 비교\n",
    "\n",
    "Kaggle에는 [IMDb 데이터셋(IMDb movies extensive dataset)](https://www.kaggle.com/stefanoleone992/imdb-extensive-dataset)과 [TMDb 데이터셋(TMDb 5000 Movie Dataset)](https://www.kaggle.com/stefanoleone992/imdb-extensive-dataset)가 있는데 양쪽 모두 영화 및 TV 프로그램에 대해 평점 데이터를 제공한다.\n",
    "\n",
    "여기서 굳이 IMDb 데이터셋을 활용하는 이유는 TMDb의 경우에는 '좋은 평가'와 '좋지 않은 평가'를 투표한 사람을 퍼센트 단위로 표현하는데, IMDb는 평점을 수치화(0~10점)하기 때문에 객관적이며 보다 좋은 시각화 결과를 얻을 수 있을 것 같아서이다."
   ]
  },
  {
   "cell_type": "markdown",
   "metadata": {
    "id": "04aeIREsVjp-"
   },
   "source": [
    "'IMDb movies extensive dataset'에는 <u>평점을 데이터로 분리한 데이터셋(IMDb ratings.csv)</u>과 <u>영화 정보 데이터를 분리한 데이터셋(IMDb movies.csv)</u>, 그리고 <u>배우 정보를 데이터로 분리한 데이터셋(IMDb names.csv)</u>으로 구분되어 있다.\n",
    "\n",
    "우리가 해야할 것은 기존 넷플릭스 대한민국에 등록되어있는 데이터들을 기반으로 평점을 매겨야 하기 때문에 \"IMDb ratings.csv\" 파일과 \"IMDb movies.csv\" 파일을 불러온 후 시각화 작업을 하도록 한다."
   ]
  },
  {
   "cell_type": "code",
   "execution_count": null,
   "metadata": {
    "colab": {
     "base_uri": "https://localhost:8080/"
    },
    "executionInfo": {
     "elapsed": 2667,
     "status": "ok",
     "timestamp": 1617602922355,
     "user": {
      "displayName": "Kamil Lee",
      "photoUrl": "https://lh3.googleusercontent.com/a-/AOh14GhtVq0rjLCBgtoAYi4HWKjjXq8fzIB4XpPNu6NQbw=s64",
      "userId": "14237530861062268164"
     },
     "user_tz": -540
    },
    "id": "fejLKDQWVjp-",
    "outputId": "19bc1310-54af-413c-e3ed-f5883d3dfc1b"
   },
   "outputs": [],
   "source": [
    "imdb_rate = pd.read_csv('dataset/IMDb ratings.csv',\n",
    "                        usecols=['weighted_average_vote'], encoding='utf-8', engine='python')\n",
    "print(imdb_rate.shape)"
   ]
  },
  {
   "cell_type": "code",
   "execution_count": null,
   "metadata": {
    "colab": {
     "base_uri": "https://localhost:8080/"
    },
    "executionInfo": {
     "elapsed": 2667,
     "status": "ok",
     "timestamp": 1617602922355,
     "user": {
      "displayName": "Kamil Lee",
      "photoUrl": "https://lh3.googleusercontent.com/a-/AOh14GhtVq0rjLCBgtoAYi4HWKjjXq8fzIB4XpPNu6NQbw=s64",
      "userId": "14237530861062268164"
     },
     "user_tz": -540
    },
    "id": "fejLKDQWVjp-",
    "outputId": "19bc1310-54af-413c-e3ed-f5883d3dfc1b"
   },
   "outputs": [],
   "source": [
    "imdb_title = pd.read_csv('dataset/IMDb movies.csv',\n",
    "                         usecols=['title', 'year', 'genre'], encoding='utf-8', engine='python')\n",
    "print(imdb_title.shape)"
   ]
  },
  {
   "cell_type": "code",
   "execution_count": null,
   "metadata": {
    "colab": {
     "base_uri": "https://localhost:8080/"
    },
    "executionInfo": {
     "elapsed": 2504,
     "status": "ok",
     "timestamp": 1617602922356,
     "user": {
      "displayName": "Kamil Lee",
      "photoUrl": "https://lh3.googleusercontent.com/a-/AOh14GhtVq0rjLCBgtoAYi4HWKjjXq8fzIB4XpPNu6NQbw=s64",
      "userId": "14237530861062268164"
     },
     "user_tz": -540
    },
    "id": "qctaf04-Vjp_",
    "outputId": "5697c0cd-1fe3-45f5-9cf4-86645fe9a91d"
   },
   "outputs": [],
   "source": [
    "# 위의 두 csv 파일을 pandas의 DataFrame 형태로 병합\n",
    "rating_df = pd.DataFrame({'Title':imdb_title.title,\n",
    "                       'Genre':imdb_title.genre,\n",
    "                       'Release Year':imdb_title.year,\n",
    "                       'Rating':imdb_rate.weighted_average_vote})\n",
    "rating_df.drop_duplicates(subset=['Title', 'Rating', 'Release Year'], inplace=True)\n",
    "print(rating_df.shape)"
   ]
  },
  {
   "cell_type": "markdown",
   "metadata": {
    "id": "pHAfT70xVjp_"
   },
   "source": [
    "### 2_5_1_한국 영화 평점 시각화\n",
    "\n",
    "먼저, IMDb rating 데이터셋과 넷플릭스 대한민국 데이터셋을 내부 조인(Inner join)한다."
   ]
  },
  {
   "cell_type": "code",
   "execution_count": null,
   "metadata": {
    "executionInfo": {
     "elapsed": 1514,
     "status": "ok",
     "timestamp": 1617602922357,
     "user": {
      "displayName": "Kamil Lee",
      "photoUrl": "https://lh3.googleusercontent.com/a-/AOh14GhtVq0rjLCBgtoAYi4HWKjjXq8fzIB4XpPNu6NQbw=s64",
      "userId": "14237530861062268164"
     },
     "user_tz": -540
    },
    "id": "n-5RZNQXVjqA"
   },
   "outputs": [],
   "source": [
    "rating_df.dropna()\n",
    "\n",
    "joint_movies_df = rating_df.merge(netflix_rok_movies, left_on='Title', right_on='title', how='inner')\n",
    "joint_movies_df = joint_movies_df.sort_values(by='Rating', ascending=False)"
   ]
  },
  {
   "cell_type": "code",
   "execution_count": null,
   "metadata": {
    "colab": {
     "base_uri": "https://localhost:8080/",
     "height": 935
    },
    "executionInfo": {
     "elapsed": 676,
     "status": "ok",
     "timestamp": 1617602922358,
     "user": {
      "displayName": "Kamil Lee",
      "photoUrl": "https://lh3.googleusercontent.com/a-/AOh14GhtVq0rjLCBgtoAYi4HWKjjXq8fzIB4XpPNu6NQbw=s64",
      "userId": "14237530861062268164"
     },
     "user_tz": -540
    },
    "id": "PusMq8sMVjqA",
    "outputId": "7bc0c153-55b0-4a0f-c516-e57633c97550"
   },
   "outputs": [],
   "source": [
    "print(joint_movies_df.shape)\n",
    "joint_movies_df.head()"
   ]
  },
  {
   "cell_type": "code",
   "execution_count": null,
   "metadata": {
    "colab": {
     "base_uri": "https://localhost:8080/",
     "height": 241
    },
    "executionInfo": {
     "elapsed": 998,
     "status": "error",
     "timestamp": 1617602924349,
     "user": {
      "displayName": "Kamil Lee",
      "photoUrl": "https://lh3.googleusercontent.com/a-/AOh14GhtVq0rjLCBgtoAYi4HWKjjXq8fzIB4XpPNu6NQbw=s64",
      "userId": "14237530861062268164"
     },
     "user_tz": -540
    },
    "id": "pPAlz7FpVjqA",
    "outputId": "28482a80-9df8-4a1c-f633-e40dd3ffa4cf"
   },
   "outputs": [],
   "source": [
    "# IMDb의 평점(Rating) 상위 10개 데이터를 시각화\n",
    "top_10_movies = joint_movies_df[0:20]\n",
    "\n",
    "fig = px.sunburst(top_10_movies, path=['title', 'rating'],\n",
    "                 values='Rating', color='Rating')\n",
    "fig.update_layout(title='IMDb 평점 + 넷플릭스 대한민국 한국 영화')\n",
    "\n",
    "fig.show()"
   ]
  },
  {
   "cell_type": "code",
   "execution_count": null,
   "metadata": {
    "colab": {
     "base_uri": "https://localhost:8080/",
     "height": 1000
    },
    "executionInfo": {
     "elapsed": 595,
     "status": "ok",
     "timestamp": 1617602925499,
     "user": {
      "displayName": "Kamil Lee",
      "photoUrl": "https://lh3.googleusercontent.com/a-/AOh14GhtVq0rjLCBgtoAYi4HWKjjXq8fzIB4XpPNu6NQbw=s64",
      "userId": "14237530861062268164"
     },
     "user_tz": -540
    },
    "id": "nejyMe6ZVjqB",
    "outputId": "f750242d-a312-46fa-d300-bd9d6241c40b"
   },
   "outputs": [],
   "source": [
    "print(top_10_movies.shape)\n",
    "top_10_movies.head(10)"
   ]
  },
  {
   "cell_type": "markdown",
   "metadata": {
    "id": "4SYk42qDVjqB"
   },
   "source": [
    "### 2_5_2_TV 프로그램 평점 시각화\n",
    "\n",
    "2_5_1과 같은 작업을 거쳐 시각화하는 과정이다."
   ]
  },
  {
   "cell_type": "code",
   "execution_count": null,
   "metadata": {
    "executionInfo": {
     "elapsed": 1158,
     "status": "ok",
     "timestamp": 1617602927792,
     "user": {
      "displayName": "Kamil Lee",
      "photoUrl": "https://lh3.googleusercontent.com/a-/AOh14GhtVq0rjLCBgtoAYi4HWKjjXq8fzIB4XpPNu6NQbw=s64",
      "userId": "14237530861062268164"
     },
     "user_tz": -540
    },
    "id": "RXfiLsWmVjqB"
   },
   "outputs": [],
   "source": [
    "rating_df.dropna()\n",
    "\n",
    "joint_shows_df = rating_df.merge(netflix_rok_shows, left_on='Title', right_on='title', how='inner')\n",
    "joint_shows_df = joint_shows_df.sort_values(by='Rating', ascending=False)"
   ]
  },
  {
   "cell_type": "code",
   "execution_count": null,
   "metadata": {
    "colab": {
     "base_uri": "https://localhost:8080/",
     "height": 241
    },
    "executionInfo": {
     "elapsed": 607,
     "status": "error",
     "timestamp": 1617602927793,
     "user": {
      "displayName": "Kamil Lee",
      "photoUrl": "https://lh3.googleusercontent.com/a-/AOh14GhtVq0rjLCBgtoAYi4HWKjjXq8fzIB4XpPNu6NQbw=s64",
      "userId": "14237530861062268164"
     },
     "user_tz": -540
    },
    "id": "NLdfJuqcVjqC",
    "outputId": "eac0c77a-819e-4ff5-acee-0471de080023"
   },
   "outputs": [],
   "source": [
    "top_10_shows = joint_shows_df[0:10]\n",
    "\n",
    "fig = px.sunburst(top_10_shows, path=['title', 'rating'],\n",
    "                 values='Rating', color='Rating')\n",
    "fig.update_layout(title='IMDb 평점 + 넷플릭스 대한민국 TV 프로그램')\n",
    "\n",
    "fig.show()"
   ]
  },
  {
   "cell_type": "code",
   "execution_count": null,
   "metadata": {
    "colab": {
     "base_uri": "https://localhost:8080/",
     "height": 1000
    },
    "executionInfo": {
     "elapsed": 1141,
     "status": "ok",
     "timestamp": 1617602928853,
     "user": {
      "displayName": "Kamil Lee",
      "photoUrl": "https://lh3.googleusercontent.com/a-/AOh14GhtVq0rjLCBgtoAYi4HWKjjXq8fzIB4XpPNu6NQbw=s64",
      "userId": "14237530861062268164"
     },
     "user_tz": -540
    },
    "id": "itVPeJYiVjqC",
    "outputId": "e950f405-d7fd-4bb8-cf46-68e075c55c9e"
   },
   "outputs": [],
   "source": [
    "print(top_10_shows.shape)\n",
    "top_10_shows.head(10)"
   ]
  },
  {
   "cell_type": "markdown",
   "metadata": {
    "id": "HdQclqhlVjqC"
   },
   "source": [
    "## 2_6_넷플릭스 대한민국 컨텐츠 주요 장르를 WordCloud 형태로 시각화"
   ]
  },
  {
   "cell_type": "markdown",
   "metadata": {
    "id": "mPKdVvO9VjqD"
   },
   "source": [
    "### 2_6_1_한국 영화 장르 WordCloud\n",
    "\n",
    "WordCloud를 사용해서 `netflix_rok_movies`의 'listed_in' 컬럼을 추출해서 이를 시각화해 보자."
   ]
  },
  {
   "cell_type": "code",
   "execution_count": null,
   "metadata": {
    "executionInfo": {
     "elapsed": 887,
     "status": "ok",
     "timestamp": 1617602931494,
     "user": {
      "displayName": "Kamil Lee",
      "photoUrl": "https://lh3.googleusercontent.com/a-/AOh14GhtVq0rjLCBgtoAYi4HWKjjXq8fzIB4XpPNu6NQbw=s64",
      "userId": "14237530861062268164"
     },
     "user_tz": -540
    },
    "id": "_79x-uCPVjqD"
   },
   "outputs": [],
   "source": [
    "from collections import Counter\n",
    "\n",
    "movies_genre = list(netflix_rok_movies['listed_in'])\n",
    "mov_genre = []\n",
    "\n",
    "for g in movies_genre:\n",
    "    g = list(g.split(','))\n",
    "    for i in g:\n",
    "        mov_genre.append(i.replace(' ', \"\"))\n",
    "\n",
    "mov_gen = Counter(mov_genre)"
   ]
  },
  {
   "cell_type": "code",
   "execution_count": null,
   "metadata": {
    "colab": {
     "base_uri": "https://localhost:8080/",
     "height": 628
    },
    "executionInfo": {
     "elapsed": 2793,
     "status": "ok",
     "timestamp": 1617602934083,
     "user": {
      "displayName": "Kamil Lee",
      "photoUrl": "https://lh3.googleusercontent.com/a-/AOh14GhtVq0rjLCBgtoAYi4HWKjjXq8fzIB4XpPNu6NQbw=s64",
      "userId": "14237530861062268164"
     },
     "user_tz": -540
    },
    "id": "hE66Bid-VjqD",
    "outputId": "921497f3-66b9-42b5-b821-6910c71c33af"
   },
   "outputs": [],
   "source": [
    "from wordcloud import WordCloud, STOPWORDS, ImageColorGenerator\n",
    "from PIL import Image\n",
    "\n",
    "text = list(set(mov_genre))\n",
    "plt.rcParams['figure.figsize'] = (11, 11)\n",
    "\n",
    "mask = np.array(Image.open('imgs/black-star1.png'))\n",
    "wc = WordCloud(max_words=1000000, background_color='black', mask=mask).generate(str(text))\n",
    "\n",
    "plt.imshow(wc, interpolation='bilinear')\n",
    "plt.axis('off')\n",
    "\n",
    "plt.show()"
   ]
  },
  {
   "cell_type": "markdown",
   "metadata": {
    "id": "-90hoyp6VjqE"
   },
   "source": [
    "### 2_6_2_한국 TV 프로그램 장르 WordCloud\n",
    "\n",
    "위와 동일한 방법으로 추출 후 시각화해 보자."
   ]
  },
  {
   "cell_type": "code",
   "execution_count": null,
   "metadata": {
    "executionInfo": {
     "elapsed": 867,
     "status": "ok",
     "timestamp": 1617602936111,
     "user": {
      "displayName": "Kamil Lee",
      "photoUrl": "https://lh3.googleusercontent.com/a-/AOh14GhtVq0rjLCBgtoAYi4HWKjjXq8fzIB4XpPNu6NQbw=s64",
      "userId": "14237530861062268164"
     },
     "user_tz": -540
    },
    "id": "hjOaeanJVjqE"
   },
   "outputs": [],
   "source": [
    "shows_genre = list(netflix_rok_shows['listed_in'])\n",
    "sho_genre = []\n",
    "\n",
    "for g in shows_genre:\n",
    "    g = list(g.split(','))\n",
    "    for i in g:\n",
    "        sho_genre.append(i.replace(' ', \"\"))\n",
    "\n",
    "sho_gen = Counter(sho_genre)"
   ]
  },
  {
   "cell_type": "code",
   "execution_count": null,
   "metadata": {
    "colab": {
     "base_uri": "https://localhost:8080/",
     "height": 628
    },
    "executionInfo": {
     "elapsed": 2089,
     "status": "ok",
     "timestamp": 1617602937512,
     "user": {
      "displayName": "Kamil Lee",
      "photoUrl": "https://lh3.googleusercontent.com/a-/AOh14GhtVq0rjLCBgtoAYi4HWKjjXq8fzIB4XpPNu6NQbw=s64",
      "userId": "14237530861062268164"
     },
     "user_tz": -540
    },
    "id": "zTzZKEdzVjqE",
    "outputId": "079ad2ec-0e40-493c-8388-0cce0cbc413d"
   },
   "outputs": [],
   "source": [
    "text = list(set(sho_genre))\n",
    "plt.rcParams['figure.figsize'] = (11, 11)\n",
    "\n",
    "mask = np.array(Image.open('imgs/black-star1.png'))\n",
    "wc = WordCloud(max_words=1000000, background_color='black', mask=mask).generate(str(text))\n",
    "\n",
    "plt.imshow(wc, interpolation='bilinear')\n",
    "plt.axis('off')\n",
    "\n",
    "plt.show()"
   ]
  },
  {
   "cell_type": "markdown",
   "metadata": {
    "id": "bYQkct75VjqF"
   },
   "source": [
    "# 3_베이스라인(Baseline) 모델 생성 후 추천 알고리즘 구현\n",
    "\n",
    "베이스라인 모델은 쉽게 말해 개인의 성향을 모델에 반영한 후, 아이템 평가에 편향성(bias) 요소를 반영하여 평점을 부과하는 것을 일컫는다.\n",
    "\n",
    "보통 **베이스라인 모델**은 *전체 평균 평점 + 사용자 편향 점수 + 아이템 편향 점수 공식으로 계산*한다.\n",
    "\n",
    "* **전체 평균 평점** : <u>모든 사용자의 아이템에 대한 평점을 평균한 값</u>\n",
    "\n",
    "* **사용자 편향 점수** : <u>사용자별 아이템 평점 평균 값 - 전체 평균 평점</u>\n",
    "\n",
    "* **아이템 편향 점수** : <u>아이템별 평점 평균 값 - 전체 평균 평점</u>\n",
    "\n",
    "예를 들어 영화 평점을 베이스라인 모델의 평점을 고려해 이를 적용해 보자.\n",
    "\n",
    "모든 사용자의 평균적인 영화 평점이 5점 만점 중 3.5이고(전체 평균 평점: 3.5), '나 홀로 집에 1편'을 모든 사용자가 평균적으로 평점 4.2로 평가했다면 특정 사용자인 '사용자: 민재'가 '나 홀로 집에 1편'을 어떻게 평가할 것인지를 예상해 본다면...\n",
    "\n",
    "---\n",
    "\n",
    "```\n",
    "\"모든 사용자의 평균 영화 평점: 3.5\"\n",
    "                +\n",
    "\"사용자 편향 점수: 4.0 - 3.5 = 0.5\"\n",
    "                +\n",
    "\"아이템 편향 점수: 4.2 - 3.5 = 0.7\"\n",
    "                \n",
    "                =\n",
    "                \n",
    "\"사용자: 민재의 '나 홀로 집에 1편' 베이스라인 모델 평점 = 4.7(3.5+0.5+0.7)\"\n",
    "```\n",
    "\n",
    "---\n",
    "\n",
    "와 같은 결과를 얻게 된다."
   ]
  },
  {
   "cell_type": "markdown",
   "metadata": {
    "id": "n0Cl45bGVjqF"
   },
   "source": [
    "## 3_1_교차 검증과 하이퍼파라미터 튜닝\n",
    "\n",
    "[Surprise Library](https://surprise.readthedocs.io/en/stable/index.html)는 교차 검증과 하이퍼파라미터 튜닝에 적합하다. Surprise는 사이킷런의 `cross_validate()` , `GridSearchCV`와 유사한 클래스를 제공하고 있다.\n",
    "\n",
    "가장 먼저 교차 검증을 시행해 볼텐데, `cross_validate()`를 이용해 [MovieLens](https://grouplens.org/datasets/movielens/)에서 제공해주는 영화 데이터셋을 활용할 것이며, `ml_rating_df`라는 이름으로 DataFrame으로 로딩한 데이터를 5개의 학습(train) / 검증(test) 폴드 데이터셋으로 분리해 교차 검증을 수행하고, RMSE(Root Mean Square Error), MAE(Mean Absolute Error)로 성능 평가를 진행해 보겠다.\n",
    "\n",
    "참고로 RMSE, MAE 중 어느 것을 사용해야 하는지 잘 모르겠다면, <u>[왜 직관적인 MAE 말고 RMSE를 쓰시나요 | \"김문과의 데이터\"](https://data101.oopy.io/mae-vs-rmse)</u> 님의 블로그를 참조하기 바란다."
   ]
  },
  {
   "cell_type": "code",
   "execution_count": null,
   "metadata": {
    "colab": {
     "base_uri": "https://localhost:8080/"
    },
    "executionInfo": {
     "elapsed": 129447,
     "status": "ok",
     "timestamp": 1617603527292,
     "user": {
      "displayName": "Kamil Lee",
      "photoUrl": "https://lh3.googleusercontent.com/a-/AOh14GhtVq0rjLCBgtoAYi4HWKjjXq8fzIB4XpPNu6NQbw=s64",
      "userId": "14237530861062268164"
     },
     "user_tz": -540
    },
    "id": "7-MpcpTuuyof",
    "outputId": "34a11a88-7415-4d71-a651-197665f2c058"
   },
   "outputs": [],
   "source": [
    "import pandas as pd\n",
    "\n",
    "ml_rating = pd.read_csv('dataset/ml-latest-small/ratings.csv', usecols=['userId', 'movieId', 'rating'],\n",
    "                        encoding='utf-8', engine='python')[['movieId', 'userId', 'rating']]\n",
    "print(ml_rating.shape)"
   ]
  },
  {
   "cell_type": "code",
   "execution_count": null,
   "metadata": {},
   "outputs": [],
   "source": [
    "ml_rating_df = pd.DataFrame(ml_rating, columns=ml_rating.keys())\n",
    "print(ml_rating_df.shape)"
   ]
  },
  {
   "cell_type": "code",
   "execution_count": null,
   "metadata": {
    "colab": {
     "base_uri": "https://localhost:8080/"
    },
    "executionInfo": {
     "elapsed": 904,
     "status": "ok",
     "timestamp": 1617603538424,
     "user": {
      "displayName": "Kamil Lee",
      "photoUrl": "https://lh3.googleusercontent.com/a-/AOh14GhtVq0rjLCBgtoAYi4HWKjjXq8fzIB4XpPNu6NQbw=s64",
      "userId": "14237530861062268164"
     },
     "user_tz": -540
    },
    "id": "SXiSGwtimFy9",
    "outputId": "bc7bff76-d5a5-44e4-fb42-2589be1fc6eb"
   },
   "outputs": [],
   "source": [
    "ml_rating_df.info()"
   ]
  },
  {
   "cell_type": "code",
   "execution_count": null,
   "metadata": {},
   "outputs": [],
   "source": [
    "ml_rating_df.dtypes"
   ]
  },
  {
   "cell_type": "code",
   "execution_count": null,
   "metadata": {},
   "outputs": [],
   "source": [
    "ml_rating_df.head()"
   ]
  },
  {
   "cell_type": "code",
   "execution_count": null,
   "metadata": {
    "executionInfo": {
     "elapsed": 65127,
     "status": "ok",
     "timestamp": 1617603672466,
     "user": {
      "displayName": "Kamil Lee",
      "photoUrl": "https://lh3.googleusercontent.com/a-/AOh14GhtVq0rjLCBgtoAYi4HWKjjXq8fzIB4XpPNu6NQbw=s64",
      "userId": "14237530861062268164"
     },
     "user_tz": -540
    },
    "id": "-4b6ccUuzOZ1"
   },
   "outputs": [],
   "source": [
    "# 인덱스와 헤더를 모두 제거한 후 ml_rating_df_nohead.csv를 생성함.\n",
    "ml_rating_df.to_csv('dataset/ml-latest-small/ml_rating_df_nohead.csv',\n",
    "                    index=False, header=False)"
   ]
  },
  {
   "cell_type": "code",
   "execution_count": null,
   "metadata": {
    "colab": {
     "base_uri": "https://localhost:8080/",
     "height": 197
    },
    "executionInfo": {
     "elapsed": 7239,
     "status": "ok",
     "timestamp": 1617603711764,
     "user": {
      "displayName": "Kamil Lee",
      "photoUrl": "https://lh3.googleusercontent.com/a-/AOh14GhtVq0rjLCBgtoAYi4HWKjjXq8fzIB4XpPNu6NQbw=s64",
      "userId": "14237530861062268164"
     },
     "user_tz": -540
    },
    "id": "Nc7OsyNN0pCE",
    "outputId": "dcd23d79-a20b-4a17-bb16-d47c48df1f56"
   },
   "outputs": [],
   "source": [
    "ml_rating_noh_df = pd.read_csv('dataset/ml-latest-small/ml_rating_df_nohead.csv')\n",
    "print(ml_rating_noh_df.shape)\n",
    "ml_rating_noh_df.head()"
   ]
  },
  {
   "cell_type": "code",
   "execution_count": null,
   "metadata": {
    "id": "P6Ppm4VJVjqG",
    "tags": []
   },
   "outputs": [],
   "source": [
    "import surprise\n",
    "\n",
    "from surprise import Reader, Dataset\n",
    "from surprise.model_selection import cross_validate\n",
    "from surprise import SVD, NMF, SlopeOne, BaselineOnly\n",
    "\n",
    "reader = Reader(rating_scale=(0.5, 5.0))\n",
    "data = Dataset.load_from_df(ml_rating_df[['userId', 'movieId', 'rating']], reader)\n",
    "\n",
    "svd = SVD(random_state=0)\n",
    "nmf = NMF(random_state=0)\n",
    "slope = SlopeOne()\n",
    "bsl = BaselineOnly(bsl_options={'n_epochs': 20, 'reg_i': 12, 'reg_u': 13})\n",
    "\n",
    "'''\n",
    "알고리즘 객체(svd, nmf, slope, bsl), 데이터(data), 성능 평가 방법(measures),\n",
    "폴드 데이터셋 개수(cv), 하나를 제외한 모든 CPU 코어 사용(n_jobs=-2)\n",
    "'''\n",
    "svd_surprise = cross_validate(svd, data, measures=['RMSE', 'MAE'], cv=5, n_jobs=-2, verbose=False)\n",
    "nmf_surprise = cross_validate(nmf, data, measures=['RMSE', 'MAE'], cv=5, n_jobs=-2, verbose=False)\n",
    "slope_surprise = cross_validate(slope, data, measures=['RMSE', 'MAE'], cv=5, n_jobs=-2, verbose=False)\n",
    "bsl_surprise = cross_validate(bsl, data, measures=['RMSE', 'MAE'], cv=5, n_jobs=-2, verbose=False)"
   ]
  },
  {
   "cell_type": "code",
   "execution_count": null,
   "metadata": {},
   "outputs": [],
   "source": [
    "print('# SVD Result:\\n', svd_surprise)\n",
    "print('\\n# NMF(Non-negative Matrix Factorization) Result:\\n', nmf_surprise)\n",
    "print('\\n# SlopeOne Result:\\n', slope_surprise)\n",
    "print('\\n# BaselineOnly Result:\\n', bsl_surprise)"
   ]
  },
  {
   "cell_type": "code",
   "execution_count": null,
   "metadata": {},
   "outputs": [],
   "source": [
    "# import csv\n",
    "\n",
    "# with open('result/bsl_surprise.csv', 'w') as f:\n",
    "#     w = csv.writer(f)\n",
    "#     w.writerow(bsl_surprise.keys())\n",
    "#     w.writerow(bsl_surprise.values())"
   ]
  },
  {
   "cell_type": "markdown",
   "metadata": {
    "id": "uG9XOX3zklBU"
   },
   "source": [
    "Surprise의 GridSearchCV도 사이킷런의 GridSearchCV와 유사하게 교차 검증을 통한 하이퍼파라미터 최적화를 수행한다. 알고리즘 유형에 따라 다르겠지만, SVD(Singular Value Decomposition)의 경우 주로 점진적 하강 방식(Stochastic Gradient Descent)의 반복 횟수를 지정하는 `n_epochs`와 SVD의 잠재 요인 K의 크기를 지정하는 `n_factors`를 튜닝한다.\n",
    "\n",
    "이번 예제에서는 `'n_epochs':[20, 40, 60]` , `'n_factors':[50, 100, 200]`로 크기를 변경하면서 CV가 '3'일 때의 최적 하이퍼파라미터를 도출해 보겠다."
   ]
  },
  {
   "cell_type": "code",
   "execution_count": null,
   "metadata": {
    "colab": {
     "base_uri": "https://localhost:8080/"
    },
    "executionInfo": {
     "elapsed": 254880,
     "status": "ok",
     "timestamp": 1617589585088,
     "user": {
      "displayName": "Kamil Lee",
      "photoUrl": "https://lh3.googleusercontent.com/a-/AOh14GhtVq0rjLCBgtoAYi4HWKjjXq8fzIB4XpPNu6NQbw=s64",
      "userId": "14237530861062268164"
     },
     "user_tz": -540
    },
    "id": "wSO1VruZVjqG",
    "outputId": "a9bdb295-dfc3-4990-abbc-107b9ad96baa"
   },
   "outputs": [],
   "source": [
    "from surprise.model_selection import GridSearchCV\n",
    "\n",
    "# 최적화할 하이퍼파라미터를 딕셔너리 형태로 지정함\n",
    "param_grid = {'n_epochs': [20, 40, 60], 'n_factors': [50, 100, 200]}\n",
    "\n",
    "# CV=3, 성능 평가는 RMSE, MAE로 수행함\n",
    "gridSearch = GridSearchCV(NMF, param_grid, measures=['rmse', 'mae'], cv=3, n_jobs=-2)\n",
    "gridSearch.fit(data)\n",
    "\n",
    "# 최고 RMSE 평가 점수와 하이퍼파라미터를 출력함\n",
    "print('GridSearchCV Best Score: ', gridSearch.best_score['rmse'])\n",
    "print('GridSearchCV Best Parameters: ', gridSearch.best_params['rmse'])"
   ]
  },
  {
   "cell_type": "markdown",
   "metadata": {
    "id": "sQtyfqOZnFlL"
   },
   "source": [
    "`'n_epochs': 20` , `'n_factors': 50`일 때 CV=3 검증 데이터셋에서 최적 RMSE가 약 0.878로 나왔다."
   ]
  },
  {
   "cell_type": "markdown",
   "metadata": {},
   "source": [
    "## 3_2_개인화 영화 추천 시스템 구축\n",
    "\n",
    "Surprise를 이용해 잠재 요인 협업 필터링 기반의 개인화된 영화 추천을 구현해 보겠다.\n",
    "\n",
    "지금까지는 학습 데이터로 `.fit()`을 호출해 학습을 수행하고 테스트 데이터로 `.test()`를 호출해 예측 평점을 계산한 뒤 RMSE/MSE로 성능을 평가했다.\n",
    "\n",
    "하지만 이번에는 다른 방법을 사용할 것인데, Surprise 패키지로 학습된 추천 알고리즘을 기반으로 특정 사용자가 아직 평점을 매기지 않은 영화 중에서 개인 취향에 가장 적절한 영화를 추천해 보겠다."
   ]
  },
  {
   "cell_type": "markdown",
   "metadata": {
    "id": "KoS-YbLqnaeL"
   },
   "source": [
    "### 3_2_1_[MovieLens](https://grouplens.org/datasets/movielens/) 데이터셋"
   ]
  },
  {
   "cell_type": "code",
   "execution_count": null,
   "metadata": {
    "colab": {
     "base_uri": "https://localhost:8080/",
     "height": 318
    },
    "executionInfo": {
     "elapsed": 644,
     "status": "error",
     "timestamp": 1617589605185,
     "user": {
      "displayName": "Kamil Lee",
      "photoUrl": "https://lh3.googleusercontent.com/a-/AOh14GhtVq0rjLCBgtoAYi4HWKjjXq8fzIB4XpPNu6NQbw=s64",
      "userId": "14237530861062268164"
     },
     "user_tz": -540
    },
    "id": "nLp-w3rtmhaJ",
    "outputId": "9e3ddfc3-618b-444e-ed9c-3c7882bde9da"
   },
   "outputs": [],
   "source": [
    "# train_test_split()로 분리되지 않는 데이터셋에 .fit()를 호출할 경우 다음과 같은 에러가 발생한다.\n",
    "data = Dataset.load_from_df(ml_rating_df[['userId', 'movieId', 'rating']], reader)\n",
    "algo = BaselineOnly()\n",
    "algo.fit(data)"
   ]
  },
  {
   "cell_type": "markdown",
   "metadata": {
    "id": "9MuZMI8ApSu3"
   },
   "source": [
    "데이터셋 전체를 학습 데이터로 사용하려면 `DatasetAutoFolds` 클래스를 호출할 필요가 있다.\n",
    "\n",
    "`DatasetAutoFolds` 객체를 생성한 후 `buiid_full_trainset()` 메서드를 호출하면 전체 데이터를 학습 데이터셋으로 만들 수 있다."
   ]
  },
  {
   "cell_type": "code",
   "execution_count": null,
   "metadata": {
    "id": "HHZFIAEFpLW0"
   },
   "outputs": [],
   "source": [
    "from surprise.dataset import DatasetAutoFolds\n",
    "\n",
    "# Reader 객체 생성 시 line_format 인자로 user, item, rating, timestamp의 4개의 컬럼으로 구성함\n",
    "reader = Reader(line_format='user item rating', sep=',', rating_scale=(0.5, 5))\n",
    "# DatasetAutoFolds 클래스를 \"rating_ml_df_nohead.csv\" 파일 기반으로 생성한다.\n",
    "data_folds = DatasetAutoFolds(ratings_file='dataset/ml-latest-small/ml_rating_df_nohead.csv',\n",
    "                              reader=reader)\n",
    "\n",
    "# 전체 데이터를 학습 데이터로 생성함\n",
    "train_dataset = data_folds.build_full_trainset()"
   ]
  },
  {
   "cell_type": "markdown",
   "metadata": {
    "id": "Ps54X43v4TvK"
   },
   "source": [
    "생성된 학습 데이터를 기반으로 학습을 수행해 보겠다. 이후에 특정 사용자가 영화를 추천하기 위해 아직 보지 않은 영화 목록을 확인해 보도록 하자."
   ]
  },
  {
   "cell_type": "code",
   "execution_count": null,
   "metadata": {
    "colab": {
     "base_uri": "https://localhost:8080/"
    },
    "executionInfo": {
     "elapsed": 4431,
     "status": "ok",
     "timestamp": 1617590177580,
     "user": {
      "displayName": "Kamil Lee",
      "photoUrl": "https://lh3.googleusercontent.com/a-/AOh14GhtVq0rjLCBgtoAYi4HWKjjXq8fzIB4XpPNu6NQbw=s64",
      "userId": "14237530861062268164"
     },
     "user_tz": -540
    },
    "id": "AF_pd4onsfXS",
    "outputId": "3f98ac29-41c1-4936-beb5-d0fea4518caf"
   },
   "outputs": [],
   "source": [
    "# SVD 알고리즘으로 학습을 수행함\n",
    "algo = BaselineOnly()\n",
    "algo.fit(train_dataset)"
   ]
  },
  {
   "cell_type": "markdown",
   "metadata": {
    "id": "XqEy7L1g8M5W"
   },
   "source": [
    "특정 사용자는 `userId=9`인 사용자로 저정한 후 userId 9번이 아직 평점을 매기지 않은 영화 [`movieId=1(Toy Story)`](https://movielens.org/movies/1)로 선정한 뒤 예측 평점을 계산해 본다."
   ]
  },
  {
   "cell_type": "code",
   "execution_count": null,
   "metadata": {
    "tags": []
   },
   "outputs": [],
   "source": [
    "ml_rating_df['userId'].unique()"
   ]
  },
  {
   "cell_type": "code",
   "execution_count": null,
   "metadata": {},
   "outputs": [],
   "source": [
    "ml_rating_df['movieId'].unique()"
   ]
  },
  {
   "cell_type": "code",
   "execution_count": null,
   "metadata": {
    "colab": {
     "base_uri": "https://localhost:8080/",
     "height": 197
    },
    "executionInfo": {
     "elapsed": 630,
     "status": "ok",
     "timestamp": 1617591055018,
     "user": {
      "displayName": "Kamil Lee",
      "photoUrl": "https://lh3.googleusercontent.com/a-/AOh14GhtVq0rjLCBgtoAYi4HWKjjXq8fzIB4XpPNu6NQbw=s64",
      "userId": "14237530861062268164"
     },
     "user_tz": -540
    },
    "id": "r5Fm3dQW59az",
    "outputId": "b53f0f7d-d93f-462d-e6a8-9d7395733e26"
   },
   "outputs": [],
   "source": [
    "ml_rating_df_test = ml_rating_df[ml_rating_df['userId'] == 610]\n",
    "ml_rating_df_test.head()"
   ]
  },
  {
   "cell_type": "code",
   "execution_count": null,
   "metadata": {
    "colab": {
     "base_uri": "https://localhost:8080/"
    },
    "executionInfo": {
     "elapsed": 612,
     "status": "ok",
     "timestamp": 1617591527710,
     "user": {
      "displayName": "Kamil Lee",
      "photoUrl": "https://lh3.googleusercontent.com/a-/AOh14GhtVq0rjLCBgtoAYi4HWKjjXq8fzIB4XpPNu6NQbw=s64",
      "userId": "14237530861062268164"
     },
     "user_tz": -540
    },
    "id": "9FoJr2sK4z2g",
    "outputId": "f357ef31-4bbf-463b-8641-58d1531d1692"
   },
   "outputs": [],
   "source": [
    "# 영화 데이터셋 DataFrame 로딩함\n",
    "ml_movie = pd.read_csv('dataset/ml-latest-small/movies.csv')\n",
    "\n",
    "# userId=610 추출 후 movieId=3 데이터가 있는지 확인함\n",
    "movieIds = ml_rating_df[ml_rating_df['userId'] == 610]['movieId']\n",
    "\n",
    "if movieIds[movieIds == 3].count() == 0:\n",
    "    print('# 해당 사용자의 영화 평점 정보 없음\\n')\n",
    "\n",
    "print(ml_movie[ml_movie['movieId'] == 3])"
   ]
  },
  {
   "cell_type": "markdown",
   "metadata": {
    "id": "UjMn6OWB-SUu"
   },
   "source": [
    "`movieId=1`인 영화에 대해서 `userId=9` 사용자의 추천 예상 평점은 `.predict()` 메서드를 이용하면 된다.\n",
    "\n",
    "단, 값을 입력할 때 문자열(string) 형태여야만 한다."
   ]
  },
  {
   "cell_type": "code",
   "execution_count": null,
   "metadata": {
    "colab": {
     "base_uri": "https://localhost:8080/"
    },
    "executionInfo": {
     "elapsed": 754,
     "status": "ok",
     "timestamp": 1617591753843,
     "user": {
      "displayName": "Kamil Lee",
      "photoUrl": "https://lh3.googleusercontent.com/a-/AOh14GhtVq0rjLCBgtoAYi4HWKjjXq8fzIB4XpPNu6NQbw=s64",
      "userId": "14237530861062268164"
     },
     "user_tz": -540
    },
    "id": "5etdo3XJ9NmZ",
    "outputId": "383f283a-c3a2-4fe7-d2d2-06cf544c056e"
   },
   "outputs": [],
   "source": [
    "uid = str(610)\n",
    "iid = str(3)\n",
    "\n",
    "pred = algo.predict(uid, iid, verbose=True)"
   ]
  },
  {
   "cell_type": "markdown",
   "metadata": {
    "id": "OtnbNnj6-5z8"
   },
   "source": [
    "추천 예측 평점 값은 \"3.82\"로 도출되었다.\n",
    "\n",
    "사용자가 평점을 매기지 않은 영화의 추천 예측 평점을 구했으니 다음으로 사용자가 평점을 매기지 않은 전체 영화를 추출한 뒤 예측 평점 순으로 영화를 추천해 보겠다."
   ]
  },
  {
   "cell_type": "markdown",
   "metadata": {
    "id": "8B3elaxj_j8D"
   },
   "source": [
    "먼저, 추천 대상이 되는 영화 정보를 추출한다."
   ]
  },
  {
   "cell_type": "code",
   "execution_count": null,
   "metadata": {
    "colab": {
     "base_uri": "https://localhost:8080/"
    },
    "executionInfo": {
     "elapsed": 599,
     "status": "ok",
     "timestamp": 1617592380417,
     "user": {
      "displayName": "Kamil Lee",
      "photoUrl": "https://lh3.googleusercontent.com/a-/AOh14GhtVq0rjLCBgtoAYi4HWKjjXq8fzIB4XpPNu6NQbw=s64",
      "userId": "14237530861062268164"
     },
     "user_tz": -540
    },
    "id": "KMidkMjm-1k4",
    "outputId": "46a61460-591d-4361-d6dc-452bf60bb990"
   },
   "outputs": [],
   "source": [
    "def get_unseen_movie_surprise(ml_rating_df, ml_movie, userId):\n",
    "    # 입력값으로 들어온 userId에 해당하는 사용자가 평점을 매긴 모든 영화를 list 형태로 생성함\n",
    "    seen_movies = ml_rating_df[ml_rating_df['userId'] == userId]['movieId'].tolist()\n",
    "\n",
    "    # 모든 영화의 movieId를 list 형태로 생성함\n",
    "    total_movies = ml_movie['movieId'].tolist()\n",
    "\n",
    "    # 모든 영화의 movieId 중 이미 평점을 매긴 영화의 movieId를 제외한 후 list 형태로 생성함\n",
    "    unseen_movies = [movie for movie in total_movies if movie not in seen_movies]\n",
    "    print('# 평점 매긴 영화의 수: ', len(seen_movies), '\\n# 추천 대상 영화의 수: ', len(unseen_movies), '\\n# 전체 영화의 수: ', len(total_movies))\n",
    "\n",
    "    return unseen_movies\n",
    "\n",
    "# 평점 DataFrame, 영화 DataFrame, userId\n",
    "unseen_movies = get_unseen_movie_surprise(ml_rating_df, ml_movie, 610)"
   ]
  },
  {
   "cell_type": "markdown",
   "metadata": {
    "id": "2OLvHr0ZBiaL"
   },
   "source": [
    "`userId=9`인 사용자의 추천 대상 영화의 수는 9696개(전체 영화의 수 - 평점 매긴 영화의 수)이며, SVD 알고리즘을 이용해 높은 예측 평점을 가진 순으로 영화를 추천해 보겠다.\n",
    "\n",
    "보다 쉽게 추출하기 위해 새롭게 `recommend_movie_surprise()` 함수를 생성하도록 하겠다."
   ]
  },
  {
   "cell_type": "markdown",
   "metadata": {
    "id": "K2damNkCCeHe"
   },
   "source": [
    "위의 함수는 추천 대상 영화 모두를 대상으로 추천 알고리즘 객체의 `.predict()` 메서드를 호출한 뒤 그 결과인 Prediction 객체를 list 형태로 저장하는 함수이다.\n",
    "\n",
    "이렇게 저장된 list 내부의 Prediction 객체를 예측 평점이 높은 순으로 다시 정렬한 후 <u>TOP-N개의 Prediction 객체에서 '영화 ID', '영화 제목', '예측 평점'을 추출한 후 반환</u>한다."
   ]
  },
  {
   "cell_type": "code",
   "execution_count": null,
   "metadata": {
    "colab": {
     "base_uri": "https://localhost:8080/"
    },
    "executionInfo": {
     "elapsed": 743,
     "status": "ok",
     "timestamp": 1617593690496,
     "user": {
      "displayName": "Kamil Lee",
      "photoUrl": "https://lh3.googleusercontent.com/a-/AOh14GhtVq0rjLCBgtoAYi4HWKjjXq8fzIB4XpPNu6NQbw=s64",
      "userId": "14237530861062268164"
     },
     "user_tz": -540
    },
    "id": "bISFplswBOk6",
    "outputId": "c353b4c4-9af4-4399-e462-02a8208d7c9b"
   },
   "outputs": [],
   "source": [
    "def recommend_movie_surprise(algo, userId, unseen_movies, top_n=10):\n",
    "    '''\n",
    "    알고리즘 객체의 predict() 메서드를 평점이 없는 영화에\n",
    "    반복 수행한 후 결과를 list 객체로 저장함\n",
    "    '''\n",
    "    predictions = [algo.predict(str(userId), str(movieId)) for movieId in unseen_movies]\n",
    "    \n",
    "    '''\n",
    "    predictions list 객체는 아래와 같이 surprise의 Predictions 객체를 원소로 가지고 있음.\n",
    "    [Prediction(user_id='9', movie_id='1', est=3.64).....]\n",
    "\n",
    "    이를 est 값으로 정렬하기 위해서 아래의 sortkey_est 함수를 정의할 필요가 있음.\n",
    "    sortkey_est 함수는 list 객체의 sort() 함수의 키 값으로 사용되어 정렬 수행함\n",
    "    '''\n",
    "    def sortkey_est(pred):\n",
    "        return pred.est\n",
    "    \n",
    "    '''\n",
    "    sortkey_est( ) 반환값의 내림차순으로 정렬 수행하고\n",
    "    top_n개의 최상위 값을 추출함\n",
    "    '''\n",
    "    predictions.sort(key=sortkey_est, reverse=True)\n",
    "    top_predictions = predictions[:top_n]\n",
    "    \n",
    "    # top_n으로 추출된 영화의 정보 추출, 영화 ID, 예상 평점, 영화 제목을 추출함\n",
    "    top_n_movie_ids = [int(pred.iid) for pred in top_predictions]\n",
    "    top_n_movie_rating = [pred.est for pred in top_predictions]\n",
    "    top_n_movie_titles = ml_movie[ml_movie.movieId.isin(top_n_movie_ids)]['title']\n",
    "    top_n_movie_preds = [(id, title, rating) for id, title, rating in zip(top_n_movie_ids, top_n_movie_titles, top_n_movie_rating)]\n",
    "    \n",
    "    return top_n_movie_preds\n",
    "\n",
    "unseen_movies = get_unseen_movie_surprise(ml_rating_df, ml_movie, 610)\n",
    "top_movie_preds = recommend_movie_surprise(algo, 610, unseen_movies, top_n=10)\n",
    "print('\\n### 해당 사용자를 위한 Top10 추천 영화 리스트 ###')\n",
    "\n",
    "for top_movie in top_movie_preds:\n",
    "    print(\"'title':\", top_movie[1], \"'estimate_score':\", top_movie[2])"
   ]
  },
  {
   "cell_type": "markdown",
   "metadata": {
    "id": "VTo73ykEJXxB"
   },
   "source": [
    "### 3_2_2_[넷플릭스 대한민국](https://www.netflix.com/kr/) 개인화 영화 추천 시스템 구축\n",
    "\n",
    "3_2_1에서 사용했던 'MovieLens' 데이터셋을 '넷플릭스 대한민국' 데이터셋에 조인(Join)을 해야 하는데, 넷플릭스 데이터셋과 다르며(한국 영화 외에도 다양한 국가의 영화 정보가 담겨있음), 특정 'movieId'의 국가 정보를 확인할 수 있는 컬럼이 존재하지 않으므로 이를 해결할 방안을 고민 중이다.\n",
    "\n",
    "---\n",
    "\n",
    "<u>**! 방법이 있긴 하다.**</u>\n",
    "\n",
    "1) <u>MovieLens 데이터셋</u>의 \"links.csv\"에는 'imdbId' 컬럼이 있으며, <u>IMDb 데이터셋</u>의 \"IMDb movies.csv\"에는 'imdb_title_id' 컬럼이 있다.\n",
    "\n",
    "2) 2_5_부분에서 <u>IMDb 데이터셋</u>과 <u>넷플릭스 데이터셋</u>을 내부 조인(Inner join)하기 전에 `pd.read_csv()` 함수 중 `usecols=['imdb_title_id']`만 사용을 한다.\n",
    "\n",
    "3) \"IMDb movies.csv\"의 'imdb_title_id' 컬럼명을 \"links.csv\"의 'imdbId'로 `pd.DataFrame()` 형태로 변경한다.\n",
    "\n",
    "4) 새로운 이름의 DataFrame이 생성되었으면 넷플릭스 데이터셋과 내부 조인을 한다.\n",
    "\n",
    "5) 이후 3_2_1_의 방법대로 넷플릭스 대한민국 데이터셋을 기반으로 개인화 영화 추천 시스템을 구축한다."
   ]
  },
  {
   "cell_type": "code",
   "execution_count": null,
   "metadata": {},
   "outputs": [],
   "source": [
    "imdb_movies_movieId = pd.read_csv('dataset/IMDb movies.csv', usecols=['imdb_title_id'],\n",
    "                                  encoding='utf-8', engine='python')\n",
    "print(imdb_movies_movieId.shape)\n",
    "imdb_movies_movieId.head()"
   ]
  },
  {
   "cell_type": "code",
   "execution_count": null,
   "metadata": {},
   "outputs": [],
   "source": [
    "# 'imdb_title_id' 컬럼에 있는 문자열 \"tt\" 제거를 위한 함수 정의\n",
    "def imdb_title_id_cleaning(x):\n",
    "    if str(x).find('tt') != -1:\n",
    "        return str(x).split('tt')[1].replace('', '')\n",
    "    return str(x)"
   ]
  },
  {
   "cell_type": "code",
   "execution_count": null,
   "metadata": {},
   "outputs": [],
   "source": [
    "imdb_movies_movieId_df = pd.DataFrame({'imdbId':imdb_movies_movieId.imdb_title_id})\n",
    "imdb_movies_movieId_df['imdbId'] = imdb_movies_movieId_df['imdbId'].apply(imdb_title_id_cleaning).apply(lambda x:x.replace('', ''))\n",
    "print(imdb_movies_movieId_df.shape)\n",
    "imdb_movies_movieId_df.head()"
   ]
  },
  {
   "cell_type": "code",
   "execution_count": null,
   "metadata": {},
   "outputs": [],
   "source": [
    "imdb_movies_movieId_df.dtypes"
   ]
  },
  {
   "cell_type": "code",
   "execution_count": null,
   "metadata": {},
   "outputs": [],
   "source": [
    "ml_links_movieId = pd.read_csv('dataset/ml-latest/links.csv', usecols=['movieId', 'imdbId'],\n",
    "                               dtype={'movieId':'object', 'imdbId':'object'}, encoding='utf-8', engine='python')\n",
    "print(ml_links_movieId.shape)\n",
    "ml_links_movieId.head()"
   ]
  },
  {
   "cell_type": "code",
   "execution_count": null,
   "metadata": {},
   "outputs": [],
   "source": [
    "ml_links_movieId_df = pd.DataFrame(ml_links_movieId, columns=ml_links_movieId.keys())\n",
    "print(ml_links_movieId_df.shape)\n",
    "ml_links_movieId_df.head()"
   ]
  },
  {
   "cell_type": "code",
   "execution_count": null,
   "metadata": {},
   "outputs": [],
   "source": [
    "ml_links_movieId_df.dtypes"
   ]
  },
  {
   "cell_type": "code",
   "execution_count": null,
   "metadata": {},
   "outputs": [],
   "source": [
    "joint_imdb_ml_links_df = pd.merge(ml_links_movieId_df, imdb_movies_movieId_df, on='imdbId', how='left')\n",
    "joint_imdb_ml_links_df"
   ]
  },
  {
   "cell_type": "markdown",
   "metadata": {},
   "source": [
    "---"
   ]
  },
  {
   "cell_type": "code",
   "execution_count": null,
   "metadata": {},
   "outputs": [],
   "source": [
    "ml_ratings_large = pd.read_csv('dataset/ml-latest/ratings.csv', usecols=['userId', 'movieId', 'rating'],\n",
    "                               dtype={'userId':'object', 'movieId':'object', 'rating':'object'},\n",
    "                               encoding='utf-8', engine='python')\n",
    "print(ml_ratings_large.shape)\n",
    "ml_ratings_large.head()"
   ]
  },
  {
   "cell_type": "code",
   "execution_count": null,
   "metadata": {},
   "outputs": [],
   "source": [
    "ml_ratings_large_df = pd.DataFrame(ml_ratings_large, columns=ml_ratings_large.keys())\n",
    "print(ml_ratings_large_df.shape)\n",
    "ml_ratings_large_df.head()"
   ]
  },
  {
   "cell_type": "code",
   "execution_count": null,
   "metadata": {},
   "outputs": [],
   "source": [
    "ml_ratings_large_df.dtypes"
   ]
  },
  {
   "cell_type": "code",
   "execution_count": null,
   "metadata": {},
   "outputs": [],
   "source": [
    "joint_ml_ratings_links_df = pd.merge(joint_imdb_ml_links_df, ml_ratings_large_df, on='movieId', how='right')\n",
    "print(joint_ml_ratings_links_df.shape)\n",
    "joint_ml_ratings_links_df"
   ]
  },
  {
   "cell_type": "code",
   "execution_count": null,
   "metadata": {},
   "outputs": [],
   "source": [
    "joint_ml_ratings_links_df.isnull().sum()"
   ]
  },
  {
   "cell_type": "code",
   "execution_count": null,
   "metadata": {},
   "outputs": [],
   "source": [
    "joint_ml_ratings_links_df.dtypes"
   ]
  },
  {
   "cell_type": "markdown",
   "metadata": {},
   "source": [
    "---"
   ]
  },
  {
   "cell_type": "code",
   "execution_count": null,
   "metadata": {},
   "outputs": [],
   "source": [
    "# ml-latest 'movies.csv' 데이터셋의 'title' 컬럼에 있는 문자열 \"(????)\" 제거를 위한 함수 정의\n",
    "def title_cleaning(x):\n",
    "    if str(x).find('(') != -1:\n",
    "        return str(x).split('(')[0].replace(')', '')\n",
    "    return str(x)"
   ]
  },
  {
   "cell_type": "code",
   "execution_count": null,
   "metadata": {},
   "outputs": [],
   "source": [
    "ml_movies_large = pd.read_csv('dataset/ml-latest/movies.csv',\n",
    "                              usecols=['movieId', 'title'],\n",
    "                              dtype={'movieId':'object',\n",
    "                                     'title':'object'},\n",
    "                              encoding='utf-8', engine='python')\n",
    "ml_movies_large['title'] = ml_movies_large['title'].apply(title_cleaning).apply(lambda x:x.replace('', ''))\n",
    "ml_movies_large"
   ]
  },
  {
   "cell_type": "code",
   "execution_count": null,
   "metadata": {},
   "outputs": [],
   "source": [
    "ml_movies_large.dtypes"
   ]
  },
  {
   "cell_type": "code",
   "execution_count": null,
   "metadata": {},
   "outputs": [],
   "source": [
    "ml_movies_large_df = pd.DataFrame(ml_movies_large, columns=ml_movies_large.keys())\n",
    "print(ml_movies_large_df.shape)"
   ]
  },
  {
   "cell_type": "code",
   "execution_count": null,
   "metadata": {},
   "outputs": [],
   "source": [
    "joint_ml_all_df = pd.merge(ml_movies_large_df, joint_ml_ratings_links_df, on='movieId', how='right')\n",
    "joint_ml_all_df"
   ]
  },
  {
   "cell_type": "code",
   "execution_count": null,
   "metadata": {},
   "outputs": [],
   "source": [
    "joint_ml_all_df.isnull().sum()"
   ]
  },
  {
   "cell_type": "code",
   "execution_count": null,
   "metadata": {},
   "outputs": [],
   "source": [
    "joint_ml_all_df.dtypes"
   ]
  },
  {
   "cell_type": "code",
   "execution_count": null,
   "metadata": {},
   "outputs": [],
   "source": [
    "# joint_ml_all_df.to_csv('dataset/ml-latest/all.csv')"
   ]
  },
  {
   "cell_type": "code",
   "execution_count": null,
   "metadata": {},
   "outputs": [],
   "source": [
    "ml_all = pd.read_csv('dataset/ml-latest/all.csv',\n",
    "                     usecols=['title', 'userId', 'rating'],\n",
    "                     dtype={'title':'object', 'userId':'object', 'rating':'object'},\n",
    "                     encoding='utf-8', engine='python')\n",
    "print(ml_all.shape)\n",
    "ml_all.head()"
   ]
  },
  {
   "cell_type": "code",
   "execution_count": null,
   "metadata": {},
   "outputs": [],
   "source": [
    "ml_all.dtypes"
   ]
  },
  {
   "cell_type": "code",
   "execution_count": null,
   "metadata": {},
   "outputs": [],
   "source": [
    "ml_all_df = pd.DataFrame(ml_all, columns=ml_all.keys())\n",
    "print(ml_all_df.shape)"
   ]
  },
  {
   "cell_type": "markdown",
   "metadata": {},
   "source": [
    "---"
   ]
  },
  {
   "cell_type": "code",
   "execution_count": null,
   "metadata": {},
   "outputs": [],
   "source": [
    "joint_netflix_movie_df = pd.merge(netflix_rok_movies, ml_all_df, on='title', how='left')\n",
    "joint_netflix_movie_df.head()"
   ]
  },
  {
   "cell_type": "code",
   "execution_count": null,
   "metadata": {},
   "outputs": [],
   "source": [
    "joint_netflix_movie_df.isnull().sum()"
   ]
  },
  {
   "cell_type": "markdown",
   "metadata": {},
   "source": [
    "---"
   ]
  },
  {
   "cell_type": "code",
   "execution_count": null,
   "metadata": {},
   "outputs": [],
   "source": [
    "netflix_shows_df = netflix_df[netflix_df['type'] == 'TV Show']\n",
    "print(netflix_shows_df.shape)"
   ]
  },
  {
   "cell_type": "code",
   "execution_count": null,
   "metadata": {},
   "outputs": [],
   "source": [
    "netflix_shows_df = pd.DataFrame(netflix_shows_df, columns=netflix_shows_df.keys())"
   ]
  },
  {
   "cell_type": "code",
   "execution_count": null,
   "metadata": {},
   "outputs": [],
   "source": [
    "netflix_movies_df = netflix_df[netflix_df['type'] == 'Movie']\n",
    "print(netflix_movies_df.shape)"
   ]
  },
  {
   "cell_type": "code",
   "execution_count": null,
   "metadata": {},
   "outputs": [],
   "source": [
    "netflix_movies_df = pd.DataFrame(netflix_movies_df, columns=netflix_movies_df.keys())"
   ]
  },
  {
   "cell_type": "code",
   "execution_count": null,
   "metadata": {},
   "outputs": [],
   "source": [
    "netflix_movies_df.isnull().sum()"
   ]
  },
  {
   "cell_type": "code",
   "execution_count": null,
   "metadata": {},
   "outputs": [],
   "source": [
    "netflix_movies_df.count()"
   ]
  },
  {
   "cell_type": "code",
   "execution_count": null,
   "metadata": {},
   "outputs": [],
   "source": [
    "netflix_shows_df.isnull().sum()"
   ]
  },
  {
   "cell_type": "code",
   "execution_count": null,
   "metadata": {},
   "outputs": [],
   "source": [
    "netflix_shows_df.count()"
   ]
  },
  {
   "cell_type": "markdown",
   "metadata": {},
   "source": [
    "---"
   ]
  },
  {
   "cell_type": "code",
   "execution_count": null,
   "metadata": {},
   "outputs": [],
   "source": [
    "joint_netflix_movie_df = pd.merge(netflix_movies_df, ml_all_df, on='title', how='inner')\n",
    "joint_netflix_movie_df.head()"
   ]
  },
  {
   "cell_type": "code",
   "execution_count": null,
   "metadata": {},
   "outputs": [],
   "source": [
    "joint_netflix_movie_df.isnull().sum()"
   ]
  },
  {
   "cell_type": "code",
   "execution_count": null,
   "metadata": {},
   "outputs": [],
   "source": [
    "joint_netflix_movie_df.count()"
   ]
  },
  {
   "cell_type": "code",
   "execution_count": null,
   "metadata": {},
   "outputs": [],
   "source": [
    "joint_netflix_movie_df.to_csv('dataset/netflix_movies.csv')"
   ]
  },
  {
   "cell_type": "markdown",
   "metadata": {},
   "source": [
    "---"
   ]
  },
  {
   "cell_type": "code",
   "execution_count": null,
   "metadata": {},
   "outputs": [],
   "source": [
    "joint_netflix_show_df = pd.merge(netflix_shows_df, ml_all_df, on='title', how='inner')\n",
    "joint_netflix_show_df.head()"
   ]
  },
  {
   "cell_type": "code",
   "execution_count": null,
   "metadata": {},
   "outputs": [],
   "source": [
    "joint_netflix_show_df.isnull().sum()"
   ]
  },
  {
   "cell_type": "code",
   "execution_count": null,
   "metadata": {},
   "outputs": [],
   "source": [
    "joint_netflix_show_df.count()"
   ]
  },
  {
   "cell_type": "code",
   "execution_count": null,
   "metadata": {},
   "outputs": [],
   "source": [
    "joint_netflix_show_df.to_csv('dataset/netflix_shows.csv')"
   ]
  },
  {
   "cell_type": "markdown",
   "metadata": {},
   "source": [
    "---"
   ]
  },
  {
   "cell_type": "markdown",
   "metadata": {},
   "source": [
    "## ?_넷플릭스 영화 데이터 클렌징"
   ]
  },
  {
   "cell_type": "code",
   "execution_count": null,
   "metadata": {},
   "outputs": [],
   "source": [
    "# 'netflix_movies.csv' 데이터셋의 'show_id' 컬럼에 있는 문자열 \"s\" 제거를 위한 함수 정의\n",
    "def showId_cleaning(x):\n",
    "    if str(x).find('s') != -1:\n",
    "        return str(x).split('s')[1].replace('', '')\n",
    "    return str(x)"
   ]
  },
  {
   "cell_type": "code",
   "execution_count": null,
   "metadata": {},
   "outputs": [],
   "source": [
    "netflix_movies_recomm = pd.read_csv('dataset/netflix_movies.csv',\n",
    "                                   usecols=['show_id', 'userId', 'rating_y'],\n",
    "                                  encoding='utf-8', engine='python')\n",
    "netflix_movies_recomm['show_id'] = netflix_movies_recomm['show_id'].apply(showId_cleaning).apply(lambda x:x.replace('', ''))\n",
    "print(netflix_movies_recomm.shape)\n",
    "netflix_movies_recomm.head()"
   ]
  },
  {
   "cell_type": "code",
   "execution_count": null,
   "metadata": {},
   "outputs": [],
   "source": [
    "netflix_movies_recomm.dtypes"
   ]
  },
  {
   "cell_type": "code",
   "execution_count": null,
   "metadata": {},
   "outputs": [],
   "source": [
    "netflix_movies_recomm_df = pd.DataFrame({'itemId':netflix_movies_recomm.show_id,\n",
    "                                         'userId':netflix_movies_recomm.userId,\n",
    "                                         'rating':netflix_movies_recomm.rating_y})"
   ]
  },
  {
   "cell_type": "code",
   "execution_count": null,
   "metadata": {},
   "outputs": [],
   "source": [
    "netflix_movies_recomm_df.info()"
   ]
  },
  {
   "cell_type": "code",
   "execution_count": null,
   "metadata": {},
   "outputs": [],
   "source": [
    "netflix_movies_recomm_df[['itemId']] = netflix_movies_recomm_df[['itemId']].apply(pd.to_numeric)"
   ]
  },
  {
   "cell_type": "code",
   "execution_count": null,
   "metadata": {},
   "outputs": [],
   "source": [
    "netflix_movies_recomm_df.info()"
   ]
  },
  {
   "cell_type": "code",
   "execution_count": null,
   "metadata": {},
   "outputs": [],
   "source": [
    "netflix_movies_recomm_df.to_csv('dataset/netflix_movies_recomm.csv')"
   ]
  },
  {
   "cell_type": "code",
   "execution_count": null,
   "metadata": {},
   "outputs": [],
   "source": [
    "netflix_movies_recomm_df.to_csv('dataset/netflix_movies_recomm_nohead.csv',\n",
    "                               index=False, header=False)"
   ]
  },
  {
   "cell_type": "code",
   "execution_count": null,
   "metadata": {},
   "outputs": [],
   "source": [
    "netflix_movies_info = pd.read_csv('dataset/netflix_movies.csv',\n",
    "                                   usecols=['show_id', 'title', 'listed_in'],\n",
    "                                  encoding='utf-8', engine='python')\n",
    "netflix_movies_info['show_id'] = netflix_movies_info['show_id'].apply(showId_cleaning).apply(lambda x:x.replace('', ''))\n",
    "print(netflix_movies_info.shape)\n",
    "netflix_movies_info"
   ]
  },
  {
   "cell_type": "code",
   "execution_count": null,
   "metadata": {},
   "outputs": [],
   "source": [
    "netflix_movies_info.info()"
   ]
  },
  {
   "cell_type": "code",
   "execution_count": null,
   "metadata": {},
   "outputs": [],
   "source": [
    "netflix_movies_info_df = pd.DataFrame({'itemId':netflix_movies_info.show_id,\n",
    "                                       'title':netflix_movies_info.title,\n",
    "                                       'genres':netflix_movies_info.listed_in})\n",
    "netflix_movies_info_df.drop_duplicates(subset=['title'], inplace=True)\n",
    "print(netflix_movies_info_df.shape)\n",
    "netflix_movies_info_df"
   ]
  },
  {
   "cell_type": "code",
   "execution_count": null,
   "metadata": {},
   "outputs": [],
   "source": [
    "netflix_movies_info_df[['itemId']] = netflix_movies_info_df[['itemId']].apply(pd.to_numeric)"
   ]
  },
  {
   "cell_type": "code",
   "execution_count": null,
   "metadata": {},
   "outputs": [],
   "source": [
    "netflix_movies_info_df.info()"
   ]
  },
  {
   "cell_type": "code",
   "execution_count": null,
   "metadata": {},
   "outputs": [],
   "source": [
    "netflix_movies_info_df.to_csv('dataset/netflix_movies_info.csv',\n",
    "                             index=False)"
   ]
  },
  {
   "cell_type": "code",
   "execution_count": null,
   "metadata": {},
   "outputs": [],
   "source": [
    "netflix_movies_info_df.to_csv('dataset/netflix_movies_info_nohead.csv',\n",
    "                             index=False, header=False)"
   ]
  },
  {
   "cell_type": "markdown",
   "metadata": {},
   "source": [
    "## ?_넷플릭스 TV 프로그램 데이터 클렌징"
   ]
  },
  {
   "cell_type": "code",
   "execution_count": null,
   "metadata": {},
   "outputs": [],
   "source": [
    "# 'netflix_shows.csv' 데이터셋의 'show_id' 컬럼에 있는 문자열 \"s\" 제거를 위한 함수 정의\n",
    "def showId_cleaning(x):\n",
    "    if str(x).find('s') != -1:\n",
    "        return str(x).split('s')[1].replace('', '')\n",
    "    return str(x)"
   ]
  },
  {
   "cell_type": "code",
   "execution_count": null,
   "metadata": {},
   "outputs": [],
   "source": [
    "netflix_shows_recomm = pd.read_csv('dataset/netflix_shows.csv',\n",
    "                                   usecols=['show_id', 'userId', 'rating_y'],\n",
    "                                   encoding='utf-8', engine='python')\n",
    "netflix_shows_recomm['show_id'] = netflix_shows_recomm['show_id'].apply(showId_cleaning).apply(lambda x:x.replace('', ''))\n",
    "print(netflix_shows_recomm.shape)\n",
    "netflix_shows_recomm.head()"
   ]
  },
  {
   "cell_type": "code",
   "execution_count": null,
   "metadata": {},
   "outputs": [],
   "source": [
    "netflix_shows_recomm.dtypes"
   ]
  },
  {
   "cell_type": "code",
   "execution_count": null,
   "metadata": {},
   "outputs": [],
   "source": [
    "netflix_shows_recomm_df = pd.DataFrame({'itemId':netflix_shows_recomm.show_id,\n",
    "                                        'userId':netflix_shows_recomm.userId,\n",
    "                                        'rating':netflix_shows_recomm.rating_y})"
   ]
  },
  {
   "cell_type": "code",
   "execution_count": null,
   "metadata": {},
   "outputs": [],
   "source": [
    "netflix_shows_recomm_df.info()"
   ]
  },
  {
   "cell_type": "code",
   "execution_count": null,
   "metadata": {},
   "outputs": [],
   "source": [
    "netflix_shows_recomm_df[['itemId']] = netflix_shows_recomm_df[['itemId']].apply(pd.to_numeric)"
   ]
  },
  {
   "cell_type": "code",
   "execution_count": null,
   "metadata": {},
   "outputs": [],
   "source": [
    "netflix_shows_recomm_df.info()"
   ]
  },
  {
   "cell_type": "code",
   "execution_count": null,
   "metadata": {},
   "outputs": [],
   "source": [
    "netflix_shows_recomm_df.to_csv('dataset/netflix_shows_recomm.csv',\n",
    "                              index=False)"
   ]
  },
  {
   "cell_type": "code",
   "execution_count": null,
   "metadata": {},
   "outputs": [],
   "source": [
    "netflix_shows_recomm_df.to_csv('dataset/netflix_shows_recomm_nohead.csv',\n",
    "                              index=False, header=False)"
   ]
  },
  {
   "cell_type": "code",
   "execution_count": null,
   "metadata": {},
   "outputs": [],
   "source": [
    "netflix_shows_info = pd.read_csv('dataset/netflix_shows.csv',\n",
    "                                   usecols=['show_id', 'title', 'listed_in'],\n",
    "                                  encoding='utf-8', engine='python')\n",
    "netflix_shows_info['show_id'] = netflix_shows_info['show_id'].apply(showId_cleaning).apply(lambda x:x.replace('', ''))\n",
    "print(netflix_shows_info.shape)\n",
    "netflix_shows_info"
   ]
  },
  {
   "cell_type": "code",
   "execution_count": null,
   "metadata": {},
   "outputs": [],
   "source": [
    "netflix_shows_info.info()"
   ]
  },
  {
   "cell_type": "code",
   "execution_count": null,
   "metadata": {},
   "outputs": [],
   "source": [
    "netflix_shows_info_df = pd.DataFrame({'itemId':netflix_shows_info.show_id,\n",
    "                                       'title':netflix_shows_info.title,\n",
    "                                       'genres':netflix_shows_info.listed_in})\n",
    "netflix_shows_info_df.drop_duplicates(subset=['title'], inplace=True)\n",
    "print(netflix_shows_info_df.shape)\n",
    "netflix_shows_info_df"
   ]
  },
  {
   "cell_type": "code",
   "execution_count": null,
   "metadata": {},
   "outputs": [],
   "source": [
    "netflix_shows_info_df[['itemId']] = netflix_shows_info_df[['itemId']].apply(pd.to_numeric)"
   ]
  },
  {
   "cell_type": "code",
   "execution_count": null,
   "metadata": {},
   "outputs": [],
   "source": [
    "netflix_shows_info_df.info()"
   ]
  },
  {
   "cell_type": "code",
   "execution_count": null,
   "metadata": {},
   "outputs": [],
   "source": [
    "netflix_shows_info_df.to_csv('dataset/netflix_shows_info.csv',\n",
    "                            index=False)"
   ]
  },
  {
   "cell_type": "code",
   "execution_count": null,
   "metadata": {},
   "outputs": [],
   "source": [
    "netflix_shows_info_df.to_csv('dataset/netflix_shows_info_nohead.csv',\n",
    "                            index=False, header=False)"
   ]
  },
  {
   "cell_type": "markdown",
   "metadata": {},
   "source": [
    "---"
   ]
  },
  {
   "cell_type": "markdown",
   "metadata": {},
   "source": [
    "## ?_넷플릭스 영화 개인화 추천 시스템 구축"
   ]
  },
  {
   "cell_type": "code",
   "execution_count": null,
   "metadata": {
    "id": "P6Ppm4VJVjqG"
   },
   "outputs": [],
   "source": [
    "import surprise\n",
    "\n",
    "from surprise import Reader, Dataset\n",
    "from surprise.model_selection import cross_validate\n",
    "from surprise import SVD\n",
    "\n",
    "reader = Reader(rating_scale=(0.5, 5.0))\n",
    "data = Dataset.load_from_df(netflix_movies_recomm_df[['itemId', 'userId', 'rating']], reader)\n",
    "\n",
    "algo = SVD(random_state=0)\n",
    "\n",
    "cross_validate(algo, data, measures=['RMSE', 'MAE'], cv=5, n_jobs=-2, verbose=True)"
   ]
  },
  {
   "cell_type": "code",
   "execution_count": null,
   "metadata": {
    "colab": {
     "base_uri": "https://localhost:8080/"
    },
    "executionInfo": {
     "elapsed": 254880,
     "status": "ok",
     "timestamp": 1617589585088,
     "user": {
      "displayName": "Kamil Lee",
      "photoUrl": "https://lh3.googleusercontent.com/a-/AOh14GhtVq0rjLCBgtoAYi4HWKjjXq8fzIB4XpPNu6NQbw=s64",
      "userId": "14237530861062268164"
     },
     "user_tz": -540
    },
    "id": "wSO1VruZVjqG",
    "outputId": "a9bdb295-dfc3-4990-abbc-107b9ad96baa"
   },
   "outputs": [],
   "source": [
    "from surprise.model_selection import GridSearchCV\n",
    "\n",
    "param_grid = {'n_epochs': [20, 40, 60], 'n_factors': [50, 100, 200]}\n",
    "\n",
    "gridSearch = GridSearchCV(SVD, param_grid, measures=['rmse', 'mae'], cv=3, n_jobs=-2)\n",
    "gridSearch.fit(data)\n",
    "\n",
    "print('GridSearchCV Best Score: ', gridSearch.best_score['rmse'])\n",
    "print('GridSearchCV Best Parameters: ', gridSearch.best_params['rmse'])"
   ]
  },
  {
   "cell_type": "code",
   "execution_count": null,
   "metadata": {
    "id": "HHZFIAEFpLW0"
   },
   "outputs": [],
   "source": [
    "from surprise.dataset import DatasetAutoFolds\n",
    "\n",
    "reader = Reader(line_format='item user rating', sep=',', rating_scale=(0.5, 5))\n",
    "data_folds = DatasetAutoFolds(ratings_file='dataset/netflix_movies_recomm_nohead.csv',\n",
    "                              reader=reader)\n",
    "\n",
    "train_dataset = data_folds.build_full_trainset()"
   ]
  },
  {
   "cell_type": "code",
   "execution_count": null,
   "metadata": {
    "colab": {
     "base_uri": "https://localhost:8080/"
    },
    "executionInfo": {
     "elapsed": 4431,
     "status": "ok",
     "timestamp": 1617590177580,
     "user": {
      "displayName": "Kamil Lee",
      "photoUrl": "https://lh3.googleusercontent.com/a-/AOh14GhtVq0rjLCBgtoAYi4HWKjjXq8fzIB4XpPNu6NQbw=s64",
      "userId": "14237530861062268164"
     },
     "user_tz": -540
    },
    "id": "AF_pd4onsfXS",
    "outputId": "3f98ac29-41c1-4936-beb5-d0fea4518caf"
   },
   "outputs": [],
   "source": [
    "algo = SVD(n_epochs=40, n_factors=50, random_state=0)\n",
    "algo.fit(train_dataset)"
   ]
  },
  {
   "cell_type": "code",
   "execution_count": null,
   "metadata": {},
   "outputs": [],
   "source": [
    "# 해당 데이터셋에서 가장 많이 투표한 '123100'번 사용자를 적용함\n",
    "netflix_movies_recomm_df['userId'].value_counts(sort=True)"
   ]
  },
  {
   "cell_type": "code",
   "execution_count": null,
   "metadata": {},
   "outputs": [],
   "source": [
    "netflix_movies_recomm_df['itemId'].value_counts(sort=True)"
   ]
  },
  {
   "cell_type": "code",
   "execution_count": null,
   "metadata": {
    "colab": {
     "base_uri": "https://localhost:8080/",
     "height": 197
    },
    "executionInfo": {
     "elapsed": 630,
     "status": "ok",
     "timestamp": 1617591055018,
     "user": {
      "displayName": "Kamil Lee",
      "photoUrl": "https://lh3.googleusercontent.com/a-/AOh14GhtVq0rjLCBgtoAYi4HWKjjXq8fzIB4XpPNu6NQbw=s64",
      "userId": "14237530861062268164"
     },
     "user_tz": -540
    },
    "id": "r5Fm3dQW59az",
    "outputId": "b53f0f7d-d93f-462d-e6a8-9d7395733e26"
   },
   "outputs": [],
   "source": [
    "netflix_movies_recomm_test = netflix_movies_recomm_df[netflix_movies_recomm_df['userId'] == 123100]\n",
    "netflix_movies_recomm_test.head()"
   ]
  },
  {
   "cell_type": "code",
   "execution_count": null,
   "metadata": {
    "colab": {
     "base_uri": "https://localhost:8080/"
    },
    "executionInfo": {
     "elapsed": 612,
     "status": "ok",
     "timestamp": 1617591527710,
     "user": {
      "displayName": "Kamil Lee",
      "photoUrl": "https://lh3.googleusercontent.com/a-/AOh14GhtVq0rjLCBgtoAYi4HWKjjXq8fzIB4XpPNu6NQbw=s64",
      "userId": "14237530861062268164"
     },
     "user_tz": -540
    },
    "id": "9FoJr2sK4z2g",
    "outputId": "f357ef31-4bbf-463b-8641-58d1531d1692"
   },
   "outputs": [],
   "source": [
    "netflix_movies = pd.read_csv('dataset/netflix_movies_info.csv')\n",
    "\n",
    "itemIds = netflix_movies_recomm_df[netflix_movies_recomm_df['userId'] == 123100]['itemId']\n",
    "\n",
    "if itemIds[itemIds == 3939].count() == 0:\n",
    "    print('# 해당 사용자의 영화 평점 정보 없음\\n')\n",
    "\n",
    "print(netflix_movies[netflix_movies['itemId'] == 3939][:1])"
   ]
  },
  {
   "cell_type": "code",
   "execution_count": null,
   "metadata": {
    "colab": {
     "base_uri": "https://localhost:8080/"
    },
    "executionInfo": {
     "elapsed": 754,
     "status": "ok",
     "timestamp": 1617591753843,
     "user": {
      "displayName": "Kamil Lee",
      "photoUrl": "https://lh3.googleusercontent.com/a-/AOh14GhtVq0rjLCBgtoAYi4HWKjjXq8fzIB4XpPNu6NQbw=s64",
      "userId": "14237530861062268164"
     },
     "user_tz": -540
    },
    "id": "5etdo3XJ9NmZ",
    "outputId": "383f283a-c3a2-4fe7-d2d2-06cf544c056e"
   },
   "outputs": [],
   "source": [
    "uid = str(123100)  # userId\n",
    "iid = str(3939)  # itemId\n",
    "\n",
    "pred = algo.predict(uid, iid, verbose=True)"
   ]
  },
  {
   "cell_type": "code",
   "execution_count": null,
   "metadata": {
    "colab": {
     "base_uri": "https://localhost:8080/"
    },
    "executionInfo": {
     "elapsed": 599,
     "status": "ok",
     "timestamp": 1617592380417,
     "user": {
      "displayName": "Kamil Lee",
      "photoUrl": "https://lh3.googleusercontent.com/a-/AOh14GhtVq0rjLCBgtoAYi4HWKjjXq8fzIB4XpPNu6NQbw=s64",
      "userId": "14237530861062268164"
     },
     "user_tz": -540
    },
    "id": "KMidkMjm-1k4",
    "outputId": "46a61460-591d-4361-d6dc-452bf60bb990"
   },
   "outputs": [],
   "source": [
    "def get_unseen_movie_surprise(netflix_movies_recomm_df, netflix_movies, userId):\n",
    "    # 입력값으로 들어온 userId에 해당하는 사용자가 평점을 매긴 모든 영화를 list 형태로 생성함\n",
    "    seen_movies = netflix_movies_recomm_df[netflix_movies_recomm_df['userId'] == userId]['itemId'].tolist()\n",
    "\n",
    "    # 모든 영화의 movieId를 list 형태로 생성함\n",
    "    total_movies = netflix_movies['itemId'].tolist()\n",
    "\n",
    "    # 모든 영화의 movieId 중 이미 평점을 매긴 영화의 movieId를 제외한 후 list 형태로 생성함\n",
    "    unseen_movies = [movie for movie in total_movies if movie not in seen_movies]\n",
    "    print('# 평점 매긴 영화의 수: ', len(seen_movies), '\\n# 추천 대상 영화의 수: ', len(unseen_movies), '\\n# 전체 영화의 수: ', len(total_movies))\n",
    "\n",
    "    return unseen_movies\n",
    "\n",
    "# 평점 DataFrame, 영화 DataFrame, userId(object)\n",
    "unseen_movies = get_unseen_movie_surprise(netflix_movies_recomm_df, netflix_movies, 123100)"
   ]
  },
  {
   "cell_type": "code",
   "execution_count": null,
   "metadata": {
    "colab": {
     "base_uri": "https://localhost:8080/"
    },
    "executionInfo": {
     "elapsed": 743,
     "status": "ok",
     "timestamp": 1617593690496,
     "user": {
      "displayName": "Kamil Lee",
      "photoUrl": "https://lh3.googleusercontent.com/a-/AOh14GhtVq0rjLCBgtoAYi4HWKjjXq8fzIB4XpPNu6NQbw=s64",
      "userId": "14237530861062268164"
     },
     "user_tz": -540
    },
    "id": "bISFplswBOk6",
    "outputId": "c353b4c4-9af4-4399-e462-02a8208d7c9b"
   },
   "outputs": [],
   "source": [
    "def recommend_movie_surprise(algo, userId, unseen_movies, top_n=10):\n",
    "    predictions = [algo.predict(str(userId), str(itemId)) for itemId in unseen_movies]\n",
    "    \n",
    "    def sortkey_est(pred):\n",
    "        return pred.est\n",
    "    \n",
    "    predictions.sort(key=sortkey_est, reverse=True)\n",
    "    top_predictions = predictions[:top_n]\n",
    "    \n",
    "    top_n_movie_ids = [int(pred.iid) for pred in top_predictions]\n",
    "    top_n_movie_rating = [pred.est for pred in top_predictions]\n",
    "    top_n_movie_titles = netflix_movies[netflix_movies.itemId.isin(top_n_movie_ids)]['title']\n",
    "    top_n_movie_preds = [(id, title, rating) for id, title, rating in zip(top_n_movie_ids, top_n_movie_titles, top_n_movie_rating)]\n",
    "    \n",
    "    return top_n_movie_preds\n",
    "\n",
    "unseen_movies = get_unseen_movie_surprise(netflix_movies_recomm_df, netflix_movies, 123100)\n",
    "top_movie_preds = recommend_movie_surprise(algo, 123100, unseen_movies, top_n=10)\n",
    "print('\\n### 해당 사용자를 위한 Top10 추천 영화 리스트 ###')\n",
    "\n",
    "for top_movie in top_movie_preds:\n",
    "    print(top_movie[1], ':', top_movie[2])"
   ]
  },
  {
   "cell_type": "markdown",
   "metadata": {},
   "source": [
    "가장 이상한 점은 <u>전체 영화의 수가 \"19개\" 밖에 없다는 점</u>이다. 이는 예상컨데 'MovieLens' 데이터셋에 있는 영화 제목과 'IMDb' 데이터셋에 있는 영화 제목, 마지막으로 '넷플릭스' 데이터셋에 있는 영화 제목이 미세한 차이가 있어서 발생한 문제로 보인다.\n",
    "\n",
    "데이터를 클렌징하는 과정에서 초보적인 실수를 범한 셈이다."
   ]
  },
  {
   "cell_type": "markdown",
   "metadata": {},
   "source": [
    "## ?_넷플릭스 TV 프로그램 개인화 추천 시스템 구축"
   ]
  },
  {
   "cell_type": "code",
   "execution_count": null,
   "metadata": {
    "id": "P6Ppm4VJVjqG"
   },
   "outputs": [],
   "source": [
    "import surprise\n",
    "\n",
    "from surprise import Reader, Dataset\n",
    "from surprise.model_selection import cross_validate\n",
    "from surprise import SVD\n",
    "\n",
    "reader = Reader(rating_scale=(0.5, 5.0))\n",
    "data = Dataset.load_from_df(netflix_shows_recomm_df[['itemId', 'userId', 'rating']], reader)\n",
    "\n",
    "algo = SVD(random_state=0)\n",
    "\n",
    "cross_validate(algo, data, measures=['RMSE', 'MAE'], cv=5, n_jobs=-2, verbose=True)"
   ]
  },
  {
   "cell_type": "code",
   "execution_count": null,
   "metadata": {
    "colab": {
     "base_uri": "https://localhost:8080/"
    },
    "executionInfo": {
     "elapsed": 254880,
     "status": "ok",
     "timestamp": 1617589585088,
     "user": {
      "displayName": "Kamil Lee",
      "photoUrl": "https://lh3.googleusercontent.com/a-/AOh14GhtVq0rjLCBgtoAYi4HWKjjXq8fzIB4XpPNu6NQbw=s64",
      "userId": "14237530861062268164"
     },
     "user_tz": -540
    },
    "id": "wSO1VruZVjqG",
    "outputId": "a9bdb295-dfc3-4990-abbc-107b9ad96baa"
   },
   "outputs": [],
   "source": [
    "from surprise.model_selection import GridSearchCV\n",
    "\n",
    "param_grid = {'n_epochs': [20, 40, 60], 'n_factors': [50, 100, 200]}\n",
    "\n",
    "gridSearch = GridSearchCV(SVD, param_grid, measures=['rmse', 'mae'], cv=3, n_jobs=-2)\n",
    "gridSearch.fit(data)\n",
    "\n",
    "print('GridSearchCV Best Score: ', gridSearch.best_score['rmse'])\n",
    "print('GridSearchCV Best Parameters: ', gridSearch.best_params['rmse'])"
   ]
  },
  {
   "cell_type": "code",
   "execution_count": null,
   "metadata": {
    "id": "HHZFIAEFpLW0"
   },
   "outputs": [],
   "source": [
    "from surprise.dataset import DatasetAutoFolds\n",
    "\n",
    "reader = Reader(line_format='item user rating', sep=',', rating_scale=(0.5, 5))\n",
    "data_folds = DatasetAutoFolds(ratings_file='dataset/netflix_shows_recomm_nohead.csv',\n",
    "                              reader=reader)\n",
    "\n",
    "train_dataset = data_folds.build_full_trainset()"
   ]
  },
  {
   "cell_type": "code",
   "execution_count": null,
   "metadata": {
    "colab": {
     "base_uri": "https://localhost:8080/"
    },
    "executionInfo": {
     "elapsed": 4431,
     "status": "ok",
     "timestamp": 1617590177580,
     "user": {
      "displayName": "Kamil Lee",
      "photoUrl": "https://lh3.googleusercontent.com/a-/AOh14GhtVq0rjLCBgtoAYi4HWKjjXq8fzIB4XpPNu6NQbw=s64",
      "userId": "14237530861062268164"
     },
     "user_tz": -540
    },
    "id": "AF_pd4onsfXS",
    "outputId": "3f98ac29-41c1-4936-beb5-d0fea4518caf"
   },
   "outputs": [],
   "source": [
    "algo = SVD(n_epochs=40, n_factors=200, random_state=0)\n",
    "algo.fit(train_dataset)"
   ]
  },
  {
   "cell_type": "code",
   "execution_count": null,
   "metadata": {},
   "outputs": [],
   "source": [
    "# 해당 데이터셋에서 가장 많이 투표한 '123100'번 사용자를 적용함\n",
    "netflix_shows_recomm_df['userId'].value_counts(sort=True)"
   ]
  },
  {
   "cell_type": "code",
   "execution_count": null,
   "metadata": {},
   "outputs": [],
   "source": [
    "netflix_shows_recomm_df['itemId'].value_counts(sort=True)"
   ]
  },
  {
   "cell_type": "code",
   "execution_count": null,
   "metadata": {
    "colab": {
     "base_uri": "https://localhost:8080/",
     "height": 197
    },
    "executionInfo": {
     "elapsed": 630,
     "status": "ok",
     "timestamp": 1617591055018,
     "user": {
      "displayName": "Kamil Lee",
      "photoUrl": "https://lh3.googleusercontent.com/a-/AOh14GhtVq0rjLCBgtoAYi4HWKjjXq8fzIB4XpPNu6NQbw=s64",
      "userId": "14237530861062268164"
     },
     "user_tz": -540
    },
    "id": "r5Fm3dQW59az",
    "outputId": "b53f0f7d-d93f-462d-e6a8-9d7395733e26"
   },
   "outputs": [],
   "source": [
    "netflix_shows_recomm_test = netflix_shows_recomm_df[netflix_shows_recomm_df['userId'] == 204546]\n",
    "netflix_shows_recomm_test.head()"
   ]
  },
  {
   "cell_type": "code",
   "execution_count": null,
   "metadata": {
    "colab": {
     "base_uri": "https://localhost:8080/"
    },
    "executionInfo": {
     "elapsed": 612,
     "status": "ok",
     "timestamp": 1617591527710,
     "user": {
      "displayName": "Kamil Lee",
      "photoUrl": "https://lh3.googleusercontent.com/a-/AOh14GhtVq0rjLCBgtoAYi4HWKjjXq8fzIB4XpPNu6NQbw=s64",
      "userId": "14237530861062268164"
     },
     "user_tz": -540
    },
    "id": "9FoJr2sK4z2g",
    "outputId": "f357ef31-4bbf-463b-8641-58d1531d1692"
   },
   "outputs": [],
   "source": [
    "netflix_shows = pd.read_csv('dataset/netflix_shows_info.csv')\n",
    "\n",
    "itemIds = netflix_shows_recomm_df[netflix_shows_recomm_df['userId'] == 204546]['itemId']\n",
    "\n",
    "if itemIds[itemIds == 6231].count() == 0:\n",
    "    print('# 해당 사용자의 영화 평점 정보 없음\\n')\n",
    "\n",
    "print(netflix_shows[netflix_shows['itemId'] == 6231])"
   ]
  },
  {
   "cell_type": "code",
   "execution_count": null,
   "metadata": {
    "colab": {
     "base_uri": "https://localhost:8080/"
    },
    "executionInfo": {
     "elapsed": 754,
     "status": "ok",
     "timestamp": 1617591753843,
     "user": {
      "displayName": "Kamil Lee",
      "photoUrl": "https://lh3.googleusercontent.com/a-/AOh14GhtVq0rjLCBgtoAYi4HWKjjXq8fzIB4XpPNu6NQbw=s64",
      "userId": "14237530861062268164"
     },
     "user_tz": -540
    },
    "id": "5etdo3XJ9NmZ",
    "outputId": "383f283a-c3a2-4fe7-d2d2-06cf544c056e"
   },
   "outputs": [],
   "source": [
    "uid = str(204546)  # userId\n",
    "iid = str(6231)  # itemId\n",
    "\n",
    "pred = algo.predict(uid, iid, verbose=True)"
   ]
  },
  {
   "cell_type": "code",
   "execution_count": null,
   "metadata": {
    "colab": {
     "base_uri": "https://localhost:8080/"
    },
    "executionInfo": {
     "elapsed": 599,
     "status": "ok",
     "timestamp": 1617592380417,
     "user": {
      "displayName": "Kamil Lee",
      "photoUrl": "https://lh3.googleusercontent.com/a-/AOh14GhtVq0rjLCBgtoAYi4HWKjjXq8fzIB4XpPNu6NQbw=s64",
      "userId": "14237530861062268164"
     },
     "user_tz": -540
    },
    "id": "KMidkMjm-1k4",
    "outputId": "46a61460-591d-4361-d6dc-452bf60bb990"
   },
   "outputs": [],
   "source": [
    "def get_unseen_show_surprise(netflix_shows_recomm_df, netflix_shows, userId):\n",
    "    seen_shows = netflix_shows_recomm_df[netflix_shows_recomm_df['userId'] == userId]['itemId'].tolist()\n",
    "\n",
    "    total_shows = netflix_shows['itemId'].tolist()\n",
    "\n",
    "    unseen_shows = [show for show in total_shows if show not in seen_shows]\n",
    "    print('# 평점 매긴 영화의 수: ', len(seen_shows), '\\n# 추천 대상 영화의 수: ', len(unseen_shows), '\\n# 전체 영화의 수: ', len(total_shows))\n",
    "\n",
    "    return unseen_shows\n",
    "\n",
    "unseen_shows = get_unseen_show_surprise(netflix_shows_recomm_df, netflix_shows, 204546)"
   ]
  },
  {
   "cell_type": "code",
   "execution_count": null,
   "metadata": {
    "colab": {
     "base_uri": "https://localhost:8080/"
    },
    "executionInfo": {
     "elapsed": 743,
     "status": "ok",
     "timestamp": 1617593690496,
     "user": {
      "displayName": "Kamil Lee",
      "photoUrl": "https://lh3.googleusercontent.com/a-/AOh14GhtVq0rjLCBgtoAYi4HWKjjXq8fzIB4XpPNu6NQbw=s64",
      "userId": "14237530861062268164"
     },
     "user_tz": -540
    },
    "id": "bISFplswBOk6",
    "outputId": "c353b4c4-9af4-4399-e462-02a8208d7c9b"
   },
   "outputs": [],
   "source": [
    "def recommend_show_surprise(algo, userId, unseen_shows, top_n=10):\n",
    "    predictions = [algo.predict(str(userId), str(itemId)) for itemId in unseen_shows]\n",
    "    \n",
    "    def sortkey_est(pred):\n",
    "        return pred.est\n",
    "    \n",
    "    predictions.sort(key=sortkey_est, reverse=True)\n",
    "    top_predictions = predictions[:top_n]\n",
    "    \n",
    "    top_n_show_ids = [int(pred.iid) for pred in top_predictions]\n",
    "    top_n_show_rating = [pred.est for pred in top_predictions]\n",
    "    top_n_show_titles = netflix_shows[netflix_shows.itemId.isin(top_n_show_ids)]['title']\n",
    "    top_n_show_preds = [(id, title, rating) for id, title, rating in zip(top_n_show_ids, top_n_show_titles, top_n_show_rating)]\n",
    "    \n",
    "    return top_n_show_preds\n",
    "\n",
    "unseen_shows = get_unseen_show_surprise(netflix_shows_recomm_df, netflix_shows, 204546)\n",
    "top_show_preds = recommend_show_surprise(algo, 204546, unseen_shows, top_n=10)\n",
    "print('\\n### 해당 사용자를 위한 Top10 추천 영화 리스트 ###')\n",
    "\n",
    "for top_show in top_show_preds:\n",
    "    print(top_show[1], ':', top_show[2])"
   ]
  },
  {
   "cell_type": "markdown",
   "metadata": {},
   "source": [
    "---"
   ]
  },
  {
   "cell_type": "markdown",
   "metadata": {},
   "source": [
    "## 3_3_넷플릭스 장르 속성을 활용한 사용자 컨텐츠 추천 시스템 구축\n",
    "\n",
    "컨텐츠 기반의 필터링은 <u>사용자가 특정 영화를 감상하고 해당 컨텐츠가 마음에 들었으면 해당 컨텐츠와 유사한 속성/특성, 구성 요소 등을 가진 다른 컨텐츠를 추천하는 것이 목적</u>이다.\n",
    "\n",
    "예시를 들자면, 사용자(고객)가 영화 '인셉션(Inception)'를 재밌게 봤다면 영화 '인셉션'의 장르인 \"액션\", \"공상 과학(sci-fi)\", \"판타지\", \"스릴러\"로 높은 평점을 받은 다른 영화를 추천하거나 감독인 '크리스토퍼 놀란'의 다른 영화를 추천하는 방식이다.\n",
    "\n",
    "이처럼 *컨텐츠(또는 서비스/상품 등) 간의 유사성을 판단하는 기준이 컨텐츠 기반 필터링*이다."
   ]
  },
  {
   "cell_type": "code",
   "execution_count": 1,
   "metadata": {},
   "outputs": [
    {
     "name": "stdout",
     "output_type": "stream",
     "text": [
      "(7787, 12)\n"
     ]
    },
    {
     "data": {
      "text/html": [
       "<div>\n",
       "<style scoped>\n",
       "    .dataframe tbody tr th:only-of-type {\n",
       "        vertical-align: middle;\n",
       "    }\n",
       "\n",
       "    .dataframe tbody tr th {\n",
       "        vertical-align: top;\n",
       "    }\n",
       "\n",
       "    .dataframe thead th {\n",
       "        text-align: right;\n",
       "    }\n",
       "</style>\n",
       "<table border=\"1\" class=\"dataframe\">\n",
       "  <thead>\n",
       "    <tr style=\"text-align: right;\">\n",
       "      <th></th>\n",
       "      <th>show_id</th>\n",
       "      <th>type</th>\n",
       "      <th>title</th>\n",
       "      <th>director</th>\n",
       "      <th>cast</th>\n",
       "      <th>country</th>\n",
       "      <th>date_added</th>\n",
       "      <th>release_year</th>\n",
       "      <th>rating</th>\n",
       "      <th>duration</th>\n",
       "      <th>listed_in</th>\n",
       "      <th>description</th>\n",
       "    </tr>\n",
       "  </thead>\n",
       "  <tbody>\n",
       "    <tr>\n",
       "      <th>0</th>\n",
       "      <td>s1</td>\n",
       "      <td>TV Show</td>\n",
       "      <td>3%</td>\n",
       "      <td>NaN</td>\n",
       "      <td>João Miguel, Bianca Comparato, Michel Gomes, R...</td>\n",
       "      <td>Brazil</td>\n",
       "      <td>August 14, 2020</td>\n",
       "      <td>2020</td>\n",
       "      <td>TV-MA</td>\n",
       "      <td>4 Seasons</td>\n",
       "      <td>International TV Shows, TV Dramas, TV Sci-Fi &amp;...</td>\n",
       "      <td>In a future where the elite inhabit an island ...</td>\n",
       "    </tr>\n",
       "  </tbody>\n",
       "</table>\n",
       "</div>"
      ],
      "text/plain": [
       "  show_id     type title director  \\\n",
       "0      s1  TV Show    3%      NaN   \n",
       "\n",
       "                                                cast country       date_added  \\\n",
       "0  João Miguel, Bianca Comparato, Michel Gomes, R...  Brazil  August 14, 2020   \n",
       "\n",
       "   release_year rating   duration  \\\n",
       "0          2020  TV-MA  4 Seasons   \n",
       "\n",
       "                                           listed_in  \\\n",
       "0  International TV Shows, TV Dramas, TV Sci-Fi &...   \n",
       "\n",
       "                                         description  \n",
       "0  In a future where the elite inhabit an island ...  "
      ]
     },
     "execution_count": 1,
     "metadata": {},
     "output_type": "execute_result"
    }
   ],
   "source": [
    "import pandas as pd\n",
    "\n",
    "netflix = pd.read_csv('dataset/netflix_titles.csv')\n",
    "print(netflix.shape)\n",
    "netflix.head(1)"
   ]
  },
  {
   "cell_type": "code",
   "execution_count": 2,
   "metadata": {},
   "outputs": [
    {
     "name": "stdout",
     "output_type": "stream",
     "text": [
      "(4803, 20)\n"
     ]
    },
    {
     "data": {
      "text/html": [
       "<div>\n",
       "<style scoped>\n",
       "    .dataframe tbody tr th:only-of-type {\n",
       "        vertical-align: middle;\n",
       "    }\n",
       "\n",
       "    .dataframe tbody tr th {\n",
       "        vertical-align: top;\n",
       "    }\n",
       "\n",
       "    .dataframe thead th {\n",
       "        text-align: right;\n",
       "    }\n",
       "</style>\n",
       "<table border=\"1\" class=\"dataframe\">\n",
       "  <thead>\n",
       "    <tr style=\"text-align: right;\">\n",
       "      <th></th>\n",
       "      <th>budget</th>\n",
       "      <th>genres</th>\n",
       "      <th>homepage</th>\n",
       "      <th>id</th>\n",
       "      <th>keywords</th>\n",
       "      <th>original_language</th>\n",
       "      <th>original_title</th>\n",
       "      <th>overview</th>\n",
       "      <th>popularity</th>\n",
       "      <th>production_companies</th>\n",
       "      <th>production_countries</th>\n",
       "      <th>release_date</th>\n",
       "      <th>revenue</th>\n",
       "      <th>runtime</th>\n",
       "      <th>spoken_languages</th>\n",
       "      <th>status</th>\n",
       "      <th>tagline</th>\n",
       "      <th>title</th>\n",
       "      <th>vote_average</th>\n",
       "      <th>vote_count</th>\n",
       "    </tr>\n",
       "  </thead>\n",
       "  <tbody>\n",
       "    <tr>\n",
       "      <th>0</th>\n",
       "      <td>237000000</td>\n",
       "      <td>[{\"id\": 28, \"name\": \"Action\"}, {\"id\": 12, \"nam...</td>\n",
       "      <td>http://www.avatarmovie.com/</td>\n",
       "      <td>19995</td>\n",
       "      <td>[{\"id\": 1463, \"name\": \"culture clash\"}, {\"id\":...</td>\n",
       "      <td>en</td>\n",
       "      <td>Avatar</td>\n",
       "      <td>In the 22nd century, a paraplegic Marine is di...</td>\n",
       "      <td>150.437577</td>\n",
       "      <td>[{\"name\": \"Ingenious Film Partners\", \"id\": 289...</td>\n",
       "      <td>[{\"iso_3166_1\": \"US\", \"name\": \"United States o...</td>\n",
       "      <td>2009-12-10</td>\n",
       "      <td>2787965087</td>\n",
       "      <td>162.0</td>\n",
       "      <td>[{\"iso_639_1\": \"en\", \"name\": \"English\"}, {\"iso...</td>\n",
       "      <td>Released</td>\n",
       "      <td>Enter the World of Pandora.</td>\n",
       "      <td>Avatar</td>\n",
       "      <td>7.2</td>\n",
       "      <td>11800</td>\n",
       "    </tr>\n",
       "  </tbody>\n",
       "</table>\n",
       "</div>"
      ],
      "text/plain": [
       "      budget                                             genres  \\\n",
       "0  237000000  [{\"id\": 28, \"name\": \"Action\"}, {\"id\": 12, \"nam...   \n",
       "\n",
       "                      homepage     id  \\\n",
       "0  http://www.avatarmovie.com/  19995   \n",
       "\n",
       "                                            keywords original_language  \\\n",
       "0  [{\"id\": 1463, \"name\": \"culture clash\"}, {\"id\":...                en   \n",
       "\n",
       "  original_title                                           overview  \\\n",
       "0         Avatar  In the 22nd century, a paraplegic Marine is di...   \n",
       "\n",
       "   popularity                               production_companies  \\\n",
       "0  150.437577  [{\"name\": \"Ingenious Film Partners\", \"id\": 289...   \n",
       "\n",
       "                                production_countries release_date     revenue  \\\n",
       "0  [{\"iso_3166_1\": \"US\", \"name\": \"United States o...   2009-12-10  2787965087   \n",
       "\n",
       "   runtime                                   spoken_languages    status  \\\n",
       "0    162.0  [{\"iso_639_1\": \"en\", \"name\": \"English\"}, {\"iso...  Released   \n",
       "\n",
       "                       tagline   title  vote_average  vote_count  \n",
       "0  Enter the World of Pandora.  Avatar           7.2       11800  "
      ]
     },
     "execution_count": 2,
     "metadata": {},
     "output_type": "execute_result"
    }
   ],
   "source": [
    "tmdb = pd.read_csv('dataset/tmdb_5000_movies.csv')\n",
    "print(tmdb.shape)\n",
    "tmdb.head(1)"
   ]
  },
  {
   "cell_type": "code",
   "execution_count": null,
   "metadata": {},
   "outputs": [],
   "source": [
    "# movie_poster = pd.read_csv('dataset/movies_metadata.csv')\n",
    "# print(movie_poster.shape)\n",
    "# movie_poster.head(1)"
   ]
  },
  {
   "cell_type": "code",
   "execution_count": null,
   "metadata": {},
   "outputs": [],
   "source": [
    "# movie_poster.info()"
   ]
  },
  {
   "cell_type": "code",
   "execution_count": 3,
   "metadata": {},
   "outputs": [],
   "source": [
    "tmdb_sel_df = tmdb[['title', 'vote_average', 'vote_count']]"
   ]
  },
  {
   "cell_type": "code",
   "execution_count": 4,
   "metadata": {},
   "outputs": [],
   "source": [
    "netflix_sel_df = netflix[['show_id', 'type', 'title', 'director', 'cast', 'listed_in', 'description']]"
   ]
  },
  {
   "cell_type": "code",
   "execution_count": 5,
   "metadata": {},
   "outputs": [
    {
     "data": {
      "text/html": [
       "<div>\n",
       "<style scoped>\n",
       "    .dataframe tbody tr th:only-of-type {\n",
       "        vertical-align: middle;\n",
       "    }\n",
       "\n",
       "    .dataframe tbody tr th {\n",
       "        vertical-align: top;\n",
       "    }\n",
       "\n",
       "    .dataframe thead th {\n",
       "        text-align: right;\n",
       "    }\n",
       "</style>\n",
       "<table border=\"1\" class=\"dataframe\">\n",
       "  <thead>\n",
       "    <tr style=\"text-align: right;\">\n",
       "      <th></th>\n",
       "      <th>id</th>\n",
       "      <th>type</th>\n",
       "      <th>title</th>\n",
       "      <th>director</th>\n",
       "      <th>cast</th>\n",
       "      <th>genres</th>\n",
       "      <th>overview</th>\n",
       "    </tr>\n",
       "  </thead>\n",
       "  <tbody>\n",
       "    <tr>\n",
       "      <th>0</th>\n",
       "      <td>s1</td>\n",
       "      <td>TV Show</td>\n",
       "      <td>3%</td>\n",
       "      <td>NaN</td>\n",
       "      <td>João Miguel, Bianca Comparato, Michel Gomes, R...</td>\n",
       "      <td>International TV Shows, TV Dramas, TV Sci-Fi &amp;...</td>\n",
       "      <td>In a future where the elite inhabit an island ...</td>\n",
       "    </tr>\n",
       "    <tr>\n",
       "      <th>1</th>\n",
       "      <td>s2</td>\n",
       "      <td>Movie</td>\n",
       "      <td>7:19</td>\n",
       "      <td>Jorge Michel Grau</td>\n",
       "      <td>Demián Bichir, Héctor Bonilla, Oscar Serrano, ...</td>\n",
       "      <td>Dramas, International Movies</td>\n",
       "      <td>After a devastating earthquake hits Mexico Cit...</td>\n",
       "    </tr>\n",
       "    <tr>\n",
       "      <th>2</th>\n",
       "      <td>s3</td>\n",
       "      <td>Movie</td>\n",
       "      <td>23:59</td>\n",
       "      <td>Gilbert Chan</td>\n",
       "      <td>Tedd Chan, Stella Chung, Henley Hii, Lawrence ...</td>\n",
       "      <td>Horror Movies, International Movies</td>\n",
       "      <td>When an army recruit is found dead, his fellow...</td>\n",
       "    </tr>\n",
       "  </tbody>\n",
       "</table>\n",
       "</div>"
      ],
      "text/plain": [
       "   id     type  title           director  \\\n",
       "0  s1  TV Show     3%                NaN   \n",
       "1  s2    Movie   7:19  Jorge Michel Grau   \n",
       "2  s3    Movie  23:59       Gilbert Chan   \n",
       "\n",
       "                                                cast  \\\n",
       "0  João Miguel, Bianca Comparato, Michel Gomes, R...   \n",
       "1  Demián Bichir, Héctor Bonilla, Oscar Serrano, ...   \n",
       "2  Tedd Chan, Stella Chung, Henley Hii, Lawrence ...   \n",
       "\n",
       "                                              genres  \\\n",
       "0  International TV Shows, TV Dramas, TV Sci-Fi &...   \n",
       "1                       Dramas, International Movies   \n",
       "2                Horror Movies, International Movies   \n",
       "\n",
       "                                            overview  \n",
       "0  In a future where the elite inhabit an island ...  \n",
       "1  After a devastating earthquake hits Mexico Cit...  \n",
       "2  When an army recruit is found dead, his fellow...  "
      ]
     },
     "execution_count": 5,
     "metadata": {},
     "output_type": "execute_result"
    }
   ],
   "source": [
    "netflix_sel_df = pd.DataFrame({'id':netflix.show_id,\n",
    "                               'type':netflix.type,\n",
    "                               'title':netflix.title,\n",
    "                               'director':netflix.director,\n",
    "                               'cast':netflix.cast,\n",
    "                               'genres':netflix.listed_in,\n",
    "                               'overview':netflix.description})\n",
    "netflix_sel_df.head(3)"
   ]
  },
  {
   "cell_type": "code",
   "execution_count": 6,
   "metadata": {},
   "outputs": [
    {
     "data": {
      "text/html": [
       "<div>\n",
       "<style scoped>\n",
       "    .dataframe tbody tr th:only-of-type {\n",
       "        vertical-align: middle;\n",
       "    }\n",
       "\n",
       "    .dataframe tbody tr th {\n",
       "        vertical-align: top;\n",
       "    }\n",
       "\n",
       "    .dataframe thead th {\n",
       "        text-align: right;\n",
       "    }\n",
       "</style>\n",
       "<table border=\"1\" class=\"dataframe\">\n",
       "  <thead>\n",
       "    <tr style=\"text-align: right;\">\n",
       "      <th></th>\n",
       "      <th>id</th>\n",
       "      <th>type</th>\n",
       "      <th>title</th>\n",
       "      <th>director</th>\n",
       "      <th>cast</th>\n",
       "      <th>genres</th>\n",
       "      <th>overview</th>\n",
       "    </tr>\n",
       "  </thead>\n",
       "  <tbody>\n",
       "    <tr>\n",
       "      <th>0</th>\n",
       "      <td>s1</td>\n",
       "      <td>TV Show</td>\n",
       "      <td>3%</td>\n",
       "      <td>NaN</td>\n",
       "      <td>[João Miguel, Bianca Comparato, Michel Gomes, ...</td>\n",
       "      <td>[International TV Shows, TV Dramas, TV Sci-Fi ...</td>\n",
       "      <td>In a future where the elite inhabit an island ...</td>\n",
       "    </tr>\n",
       "    <tr>\n",
       "      <th>1</th>\n",
       "      <td>s2</td>\n",
       "      <td>Movie</td>\n",
       "      <td>7:19</td>\n",
       "      <td>Jorge Michel Grau</td>\n",
       "      <td>[Demián Bichir, Héctor Bonilla, Oscar Serrano,...</td>\n",
       "      <td>[Dramas, International Movies]</td>\n",
       "      <td>After a devastating earthquake hits Mexico Cit...</td>\n",
       "    </tr>\n",
       "    <tr>\n",
       "      <th>2</th>\n",
       "      <td>s3</td>\n",
       "      <td>Movie</td>\n",
       "      <td>23:59</td>\n",
       "      <td>Gilbert Chan</td>\n",
       "      <td>[Tedd Chan, Stella Chung, Henley Hii, Lawrence...</td>\n",
       "      <td>[Horror Movies, International Movies]</td>\n",
       "      <td>When an army recruit is found dead, his fellow...</td>\n",
       "    </tr>\n",
       "  </tbody>\n",
       "</table>\n",
       "</div>"
      ],
      "text/plain": [
       "   id     type  title           director  \\\n",
       "0  s1  TV Show     3%                NaN   \n",
       "1  s2    Movie   7:19  Jorge Michel Grau   \n",
       "2  s3    Movie  23:59       Gilbert Chan   \n",
       "\n",
       "                                                cast  \\\n",
       "0  [João Miguel, Bianca Comparato, Michel Gomes, ...   \n",
       "1  [Demián Bichir, Héctor Bonilla, Oscar Serrano,...   \n",
       "2  [Tedd Chan, Stella Chung, Henley Hii, Lawrence...   \n",
       "\n",
       "                                              genres  \\\n",
       "0  [International TV Shows, TV Dramas, TV Sci-Fi ...   \n",
       "1                     [Dramas, International Movies]   \n",
       "2              [Horror Movies, International Movies]   \n",
       "\n",
       "                                            overview  \n",
       "0  In a future where the elite inhabit an island ...  \n",
       "1  After a devastating earthquake hits Mexico Cit...  \n",
       "2  When an army recruit is found dead, his fellow...  "
      ]
     },
     "execution_count": 6,
     "metadata": {},
     "output_type": "execute_result"
    }
   ],
   "source": [
    "netflix_sel_df['cast'] = netflix_sel_df['cast'].apply(lambda x: [x])\n",
    "netflix_sel_df['genres'] = netflix_sel_df['genres'].apply(lambda x: [x])\n",
    "netflix_sel_df.head(3)"
   ]
  },
  {
   "cell_type": "code",
   "execution_count": null,
   "metadata": {},
   "outputs": [],
   "source": [
    "# movie_poster_df = movie_poster[['title', 'poster_path']]"
   ]
  },
  {
   "cell_type": "code",
   "execution_count": 7,
   "metadata": {
    "scrolled": true
   },
   "outputs": [
    {
     "data": {
      "text/html": [
       "<div>\n",
       "<style scoped>\n",
       "    .dataframe tbody tr th:only-of-type {\n",
       "        vertical-align: middle;\n",
       "    }\n",
       "\n",
       "    .dataframe tbody tr th {\n",
       "        vertical-align: top;\n",
       "    }\n",
       "\n",
       "    .dataframe thead th {\n",
       "        text-align: right;\n",
       "    }\n",
       "</style>\n",
       "<table border=\"1\" class=\"dataframe\">\n",
       "  <thead>\n",
       "    <tr style=\"text-align: right;\">\n",
       "      <th></th>\n",
       "      <th>id</th>\n",
       "      <th>type</th>\n",
       "      <th>title</th>\n",
       "      <th>director</th>\n",
       "      <th>cast</th>\n",
       "      <th>genres</th>\n",
       "      <th>overview</th>\n",
       "      <th>vote_average</th>\n",
       "      <th>vote_count</th>\n",
       "    </tr>\n",
       "  </thead>\n",
       "  <tbody>\n",
       "    <tr>\n",
       "      <th>0</th>\n",
       "      <td>s4</td>\n",
       "      <td>Movie</td>\n",
       "      <td>9</td>\n",
       "      <td>Shane Acker</td>\n",
       "      <td>[Elijah Wood, John C. Reilly, Jennifer Connell...</td>\n",
       "      <td>[Action &amp; Adventure, Independent Movies, Sci-F...</td>\n",
       "      <td>In a postapocalyptic world, rag-doll robots hi...</td>\n",
       "      <td>6.6</td>\n",
       "      <td>1262</td>\n",
       "    </tr>\n",
       "    <tr>\n",
       "      <th>1</th>\n",
       "      <td>s5</td>\n",
       "      <td>Movie</td>\n",
       "      <td>21</td>\n",
       "      <td>Robert Luketic</td>\n",
       "      <td>[Jim Sturgess, Kevin Spacey, Kate Bosworth, Aa...</td>\n",
       "      <td>[Dramas]</td>\n",
       "      <td>A brilliant group of students become card-coun...</td>\n",
       "      <td>6.5</td>\n",
       "      <td>1375</td>\n",
       "    </tr>\n",
       "    <tr>\n",
       "      <th>2</th>\n",
       "      <td>s45</td>\n",
       "      <td>Movie</td>\n",
       "      <td>Æon Flux</td>\n",
       "      <td>Karyn Kusama</td>\n",
       "      <td>[Charlize Theron, Marton Csokas, Jonny Lee Mil...</td>\n",
       "      <td>[Action &amp; Adventure, Sci-Fi &amp; Fantasy]</td>\n",
       "      <td>Aiming to hasten an uprising, the leader of an...</td>\n",
       "      <td>5.4</td>\n",
       "      <td>703</td>\n",
       "    </tr>\n",
       "  </tbody>\n",
       "</table>\n",
       "</div>"
      ],
      "text/plain": [
       "    id   type     title        director  \\\n",
       "0   s4  Movie         9     Shane Acker   \n",
       "1   s5  Movie        21  Robert Luketic   \n",
       "2  s45  Movie  Æon Flux    Karyn Kusama   \n",
       "\n",
       "                                                cast  \\\n",
       "0  [Elijah Wood, John C. Reilly, Jennifer Connell...   \n",
       "1  [Jim Sturgess, Kevin Spacey, Kate Bosworth, Aa...   \n",
       "2  [Charlize Theron, Marton Csokas, Jonny Lee Mil...   \n",
       "\n",
       "                                              genres  \\\n",
       "0  [Action & Adventure, Independent Movies, Sci-F...   \n",
       "1                                           [Dramas]   \n",
       "2             [Action & Adventure, Sci-Fi & Fantasy]   \n",
       "\n",
       "                                            overview  vote_average  vote_count  \n",
       "0  In a postapocalyptic world, rag-doll robots hi...           6.6        1262  \n",
       "1  A brilliant group of students become card-coun...           6.5        1375  \n",
       "2  Aiming to hasten an uprising, the leader of an...           5.4         703  "
      ]
     },
     "execution_count": 7,
     "metadata": {},
     "output_type": "execute_result"
    }
   ],
   "source": [
    "netflix_tmdb_df = pd.merge(netflix_sel_df, tmdb_sel_df, on='title', how='inner')\n",
    "netflix_tmdb_df.head(3)"
   ]
  },
  {
   "cell_type": "code",
   "execution_count": 9,
   "metadata": {},
   "outputs": [],
   "source": [
    "# netflix_tmdb_df.to_csv('dataset/netflix_tmdb.csv', index=False)"
   ]
  },
  {
   "cell_type": "code",
   "execution_count": null,
   "metadata": {},
   "outputs": [],
   "source": [
    "# netflix_tmdb_poster_df = pd.merge(netflix_tmdb_df, movie_poster_df, on='title', how='inner')\n",
    "# netflix_tmdb_poster_df.head(3)"
   ]
  },
  {
   "cell_type": "code",
   "execution_count": null,
   "metadata": {},
   "outputs": [],
   "source": [
    "# netflix_tmdb_poster_df.drop_duplicates(subset=['id'], inplace=True)"
   ]
  },
  {
   "cell_type": "code",
   "execution_count": null,
   "metadata": {},
   "outputs": [],
   "source": [
    "# netflix_tmdb_poster_df.to_csv('dataset/netflix_tmdb_poster.csv')"
   ]
  },
  {
   "cell_type": "code",
   "execution_count": null,
   "metadata": {},
   "outputs": [],
   "source": [
    "from sklearn.feature_extraction.text import CountVectorizer\n",
    "\n",
    "# CountVectorizer를 적용하기 위해 공백 문자로 단어가 구분되는 문자열로 변환한다.\n",
    "netflix_tmdb_df['genres_literal'] = netflix_tmdb_df['genres'].apply(lambda x:(' ').join(x))\n",
    "cvt = CountVectorizer(min_df=0, ngram_range=(1, 2))\n",
    "genre_matrix = cvt.fit_transform(netflix_tmdb_df['genres_literal'])\n",
    "\n",
    "print(genre_matrix.shape)"
   ]
  },
  {
   "cell_type": "code",
   "execution_count": null,
   "metadata": {},
   "outputs": [],
   "source": [
    "from sklearn.metrics.pairwise import cosine_similarity\n",
    "\n",
    "genre_similar = cosine_similarity(genre_matrix, genre_matrix)\n",
    "\n",
    "print(genre_similar.shape)\n",
    "print(genre_similar[:2])"
   ]
  },
  {
   "cell_type": "code",
   "execution_count": null,
   "metadata": {},
   "outputs": [],
   "source": [
    "genre_similar_sorted_idx = genre_similar.argsort()[:, ::-1]\n",
    "\n",
    "print(genre_similar_sorted_idx[:1])"
   ]
  },
  {
   "cell_type": "code",
   "execution_count": null,
   "metadata": {},
   "outputs": [],
   "source": [
    "def find_similar_movie(find_movie_df, sorted_idx, title_name, top_n=10):\n",
    "    # 인자로 입력된 netflix_tmdb_df DataFrame에서 'title' 컬럼이 입력된 title_name 값인 DataFrame을 추출함\n",
    "    title_movie = find_movie_df[find_movie_df['title'] == title_name]\n",
    "    \n",
    "    '''\n",
    "    title_name을 가진 DataFrame의 인덱스 객체를 ndarray 형태로 반환하고 sorted_idx 인자로 입력된\n",
    "    genre_similar_sorted_idx 객체에서 유사도 순으로 top_n개의 인덱스를 추출함\n",
    "    '''\n",
    "    title_idx = title_movie.index.values\n",
    "    similar_idxes = sorted_idx[title_idx, :(top_n)]\n",
    "    \n",
    "    '''\n",
    "    추출된 top_n 인덱스를 출력한다. 2차원 데이터이며,\n",
    "    DataFrame에서 인덱스로 사용하기 위해서 1차원 array로 변경한다.\n",
    "    '''\n",
    "    print(similar_idxes)\n",
    "    similar_idxes = similar_idxes.reshape(-1)\n",
    "    \n",
    "    return find_movie_df.iloc[similar_idxes]"
   ]
  },
  {
   "cell_type": "code",
   "execution_count": null,
   "metadata": {},
   "outputs": [],
   "source": [
    "pd.set_option('max_colwidth', 150)  # DataFrame의 컬럼 너비를 조절함\n",
    "\n",
    "similar_movies = find_similar_movie(netflix_tmdb_df, genre_similar_sorted_idx, 'Inception', 10)\n",
    "similar_movies[['title', 'genres', 'vote_average']].sort_values('vote_average', ascending=False)"
   ]
  },
  {
   "cell_type": "code",
   "execution_count": null,
   "metadata": {},
   "outputs": [],
   "source": [
    "netflix_tmdb_df[['title', 'vote_average', 'vote_count']].sort_values('vote_average', ascending=False)[:10]"
   ]
  },
  {
   "cell_type": "code",
   "execution_count": null,
   "metadata": {},
   "outputs": [],
   "source": [
    "# Pandas의 Series 객체의 quantile() 함수로 상위 70% 값을 추출함\n",
    "C = netflix_tmdb_df['vote_average'].mean()\n",
    "m = netflix_tmdb_df['vote_count'].quantile(0.7)\n",
    "\n",
    "print('# 전체 영화에 대한 평균 평점(C):', round(C, 3), '\\n# 평점을 부여하기 위한 최소 투표 횟수(m):', round(m, 3))"
   ]
  },
  {
   "cell_type": "code",
   "execution_count": null,
   "metadata": {},
   "outputs": [],
   "source": [
    "'''\n",
    "레코드의 인자로 받아 레코드의 'vote_count'와 'vote_average' 컬럼,\n",
    "그리고 미리 추출된 C와 m 값을 적용해 레코드별 가중 평점을 반환한다.\n",
    "'''\n",
    "m = netflix_tmdb_df['vote_count'].quantile(0.7)\n",
    "C = netflix_tmdb_df['vote_average'].mean()\n",
    "\n",
    "def weighted_vote_average(record):\n",
    "    v = record['vote_count']\n",
    "    R = record['vote_average']\n",
    "    \n",
    "    return ( (v/(v+m)) * R ) + ( (m/(m+v)) * C )\n",
    "\n",
    "netflix_tmdb_df['weighted_vote_rating'] = netflix_tmdb_df.apply(weighted_vote_average, axis=1)"
   ]
  },
  {
   "cell_type": "code",
   "execution_count": null,
   "metadata": {},
   "outputs": [],
   "source": [
    "# 상위 10개 영화를 추출함\n",
    "netflix_tmdb_df[['title', 'genres', 'vote_average', 'weighted_vote_rating', 'vote_count']].sort_values(\n",
    "    'weighted_vote_rating', ascending=False)"
   ]
  },
  {
   "cell_type": "code",
   "execution_count": null,
   "metadata": {},
   "outputs": [],
   "source": [
    "# netflix_tmdb_poster_df.to_csv('result/test.csv')"
   ]
  },
  {
   "cell_type": "markdown",
   "metadata": {},
   "source": [
    "1위를 차지한 영화 '펄프 픽션 (1994)'은 같은해 프랑스 칸 국제 영화제에서 황금 종려상을 받은 유명한 영화라고 한다. 2위 영화 '쉰들러 리스트 (1993)'와 3위인 영화 '인셉션 (2010)'은 매우 뛰어난 영화임에 틀림없을 것으로 예상된다."
   ]
  },
  {
   "cell_type": "markdown",
   "metadata": {},
   "source": [
    "위에서 새롭게 정의된 평점 기준에 따라서 영화를 추천해 보겠다. 장르 유사성이 높은 영화를 top_n의 2배수만큼 후보군을 선정한 후 'weighted_vote_rating' 컬럼값이 높은 순으로 top_n만큼 추출하는 방식이다."
   ]
  },
  {
   "cell_type": "code",
   "execution_count": null,
   "metadata": {
    "tags": []
   },
   "outputs": [],
   "source": [
    "netflix_tmdb_df['title'].unique()"
   ]
  },
  {
   "cell_type": "code",
   "execution_count": null,
   "metadata": {},
   "outputs": [],
   "source": [
    "test_df = netflix_tmdb_df[netflix_tmdb_df['title'] == 'Indiana Jones and the Temple of Doom']\n",
    "test_df"
   ]
  },
  {
   "cell_type": "code",
   "execution_count": null,
   "metadata": {},
   "outputs": [],
   "source": [
    "def find_similar_movie(find_movie_df, sorted_idx, title_name, top_n=10):\n",
    "    title_movie = find_movie_df[find_movie_df['title'] == title_name]\n",
    "    title_idx = title_movie.index.values\n",
    "    \n",
    "    # top_n의 2배에 해당하는 장르 유사성이 높은 인덱스를 추출함\n",
    "    similar_idxes = sorted_idx[title_idx, :(top_n*2)]\n",
    "    similar_idxes = similar_idxes.reshape(-1)\n",
    "    \n",
    "    # 기준 영화의 인덱스는 제외시킴\n",
    "    similar_idxes = similar_idxes[similar_idxes != title_idx]\n",
    "    print(similar_idxes)\n",
    "    \n",
    "    # top_n의 2배에 해당하는 후보군에서 weighted_vote_rating가 높은 순으로 top_n만큼 추출함\n",
    "    return find_movie_df.iloc[similar_idxes].sort_values('weighted_vote_rating', ascending=False)[:top_n]\n",
    "\n",
    "similar_movies = find_similar_movie(netflix_tmdb_df, genre_similar_sorted_idx, 'Indiana Jones and the Temple of Doom', 10)\n",
    "similar_movies[['title', 'genres', 'vote_average', 'weighted_vote_rating']]"
   ]
  },
  {
   "cell_type": "code",
   "execution_count": null,
   "metadata": {},
   "outputs": [],
   "source": [
    "similar_movies.to_csv('result/code_similar_movies.csv')"
   ]
  },
  {
   "cell_type": "code",
   "execution_count": null,
   "metadata": {},
   "outputs": [],
   "source": [
    "movie_poster = pd.read_csv('dataset/movies_metadata.csv',\n",
    "                          usecols=['title', 'poster_path'])\n",
    "movie_poster.head(3)"
   ]
  },
  {
   "cell_type": "code",
   "execution_count": null,
   "metadata": {},
   "outputs": [],
   "source": [
    "movie_poster[['title', 'poster_path']]"
   ]
  },
  {
   "cell_type": "code",
   "execution_count": null,
   "metadata": {
    "tags": []
   },
   "outputs": [],
   "source": [
    "similar_movies_poster = pd.merge(similar_movies, movie_poster, on='title')\n",
    "similar_movies_poster"
   ]
  },
  {
   "cell_type": "code",
   "execution_count": null,
   "metadata": {
    "tags": []
   },
   "outputs": [],
   "source": [
    "similar_movies_poster.drop_duplicates(subset=['id'], inplace=True)\n",
    "similar_movies_poster"
   ]
  },
  {
   "cell_type": "code",
   "execution_count": null,
   "metadata": {},
   "outputs": [],
   "source": [
    "similar_movies_poster.to_csv('result/code_similar_movies_poster.csv')"
   ]
  },
  {
   "cell_type": "markdown",
   "metadata": {},
   "source": [
    "앞서 추천되었던 영화하고 상당 부분 유사한 영화들이 추천된 것을 확인할 수 있다. 하지만 장르만으로 영화를 추천하는 것에는 한계가 있다고 본다. 보통 좋아하는 영화배우나 감독을 보고 영화를 보는 경우가 더 많기 때문이다. "
   ]
  }
 ],
 "metadata": {
  "colab": {
   "collapsed_sections": [],
   "name": "[Google Colab]Netflix ROK Recommender System.ipynb",
   "provenance": [
    {
     "file_id": "1ihUwdGeFy6OrotabRjn1KgwzDvIuDK1l",
     "timestamp": 1617602363242
    },
    {
     "file_id": "1Qm1G4DuiOeCq4Np65kTAEWyePFiZ0-Pn",
     "timestamp": 1617581097070
    }
   ],
   "toc_visible": true
  },
  "kernelspec": {
   "display_name": "Python 3",
   "language": "python",
   "name": "python3"
  },
  "language_info": {
   "codemirror_mode": {
    "name": "ipython",
    "version": 3
   },
   "file_extension": ".py",
   "mimetype": "text/x-python",
   "name": "python",
   "nbconvert_exporter": "python",
   "pygments_lexer": "ipython3",
   "version": "3.8.5"
  }
 },
 "nbformat": 4,
 "nbformat_minor": 4
}
